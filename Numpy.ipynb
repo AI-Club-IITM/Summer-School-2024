{
  "nbformat": 4,
  "nbformat_minor": 0,
  "metadata": {
    "colab": {
      "provenance": []
    },
    "kernelspec": {
      "name": "python3",
      "display_name": "Python 3"
    },
    "language_info": {
      "name": "python"
    }
  },
  "cells": [
    {
      "cell_type": "markdown",
      "source": [
        "##What is a Python Library?"
      ],
      "metadata": {
        "id": "EpD1LkjZYCyd"
      }
    },
    {
      "cell_type": "markdown",
      "source": [
        "A Python library is a collection of related modules. It contains bundles of code that can be used repeatedly in different programs. It makes Python Programming simpler and convenient for the programmer. As we don’t need to write the same code again and again for different programs. Python libraries play a very vital role in fields of Machine Learning, Data Science, Data Visualization, etc."
      ],
      "metadata": {
        "id": "j7WgMa-rMNh5"
      }
    },
    {
      "cell_type": "markdown",
      "source": [
        "Heres the link to the complete NumPy Documentation <br>\n",
        "https://numpy.org/doc/2.0/"
      ],
      "metadata": {
        "id": "U6kVhW9YJy9j"
      }
    },
    {
      "cell_type": "markdown",
      "source": [
        "##**What is NumPy?**<br>\n",
        "NumPy is a library of Python that will help in analyzing the data. It is used by individuals who deal with data science. It is a linear algebra library.\n",
        "\n",
        "**How to install NumPy?**<br>\n",
        "To install NumPy using pip:\n"
      ],
      "metadata": {
        "id": "_E_v6coUEHcR"
      }
    },
    {
      "cell_type": "code",
      "source": [
        "!pip install numpy"
      ],
      "metadata": {
        "colab": {
          "base_uri": "https://localhost:8080/"
        },
        "id": "mjSUOE3IEWAn",
        "outputId": "6549677d-fc37-4723-c963-541289c21c8e"
      },
      "execution_count": null,
      "outputs": [
        {
          "output_type": "stream",
          "name": "stdout",
          "text": [
            "Requirement already satisfied: numpy in /usr/local/lib/python3.10/dist-packages (1.25.2)\n"
          ]
        }
      ]
    },
    {
      "cell_type": "markdown",
      "source": [
        "**What are NumPy Arrays?**<br>\n",
        "While working with NumPy for data science, mostly we have to deal with NumPy arrays. These arrays are of two types:\n",
        "1.\tMatrices:<br>\n",
        "Matrices are usually two-dimensional but they can still have either only one row or one column.\n",
        "2. Vectors:<br>\n",
        "Vectors on the other hand are strictly one-dimensional.\n"
      ],
      "metadata": {
        "id": "h1q-SBlHkMgw"
      }
    },
    {
      "cell_type": "markdown",
      "source": [
        "**How to create NumPy Arrays using lists?**<br>\n",
        "→ Importing the library\n",
        "\n"
      ],
      "metadata": {
        "id": "EW_frWAdliXt"
      }
    },
    {
      "cell_type": "code",
      "source": [
        "import numpy as np"
      ],
      "metadata": {
        "id": "fAxAm48Alh9t"
      },
      "execution_count": null,
      "outputs": []
    },
    {
      "cell_type": "markdown",
      "source": [
        "→ Creating a list and then converting it into an array of 1 dimension."
      ],
      "metadata": {
        "id": "zskR27mllpqE"
      }
    },
    {
      "cell_type": "code",
      "source": [
        "list1 = [11,23,34,56]\n",
        "array1 = np.array(list1)\n",
        "array1"
      ],
      "metadata": {
        "colab": {
          "base_uri": "https://localhost:8080/"
        },
        "id": "89feHsgPkEAM",
        "outputId": "a46f281a-55c4-4567-9084-e9d0be0fe6c9"
      },
      "execution_count": null,
      "outputs": [
        {
          "output_type": "execute_result",
          "data": {
            "text/plain": [
              "array([11, 23, 34, 56])"
            ]
          },
          "metadata": {},
          "execution_count": 107
        }
      ]
    },
    {
      "cell_type": "markdown",
      "source": [
        "→ Creating a list of lists and converting it into an array of 2 dimensions."
      ],
      "metadata": {
        "id": "ZM9Um-yDmLPk"
      }
    },
    {
      "cell_type": "code",
      "source": [
        "list2 = [[11,22,33],[55,66,77],[88,99,100]]\n",
        "np.array(list2)"
      ],
      "metadata": {
        "colab": {
          "base_uri": "https://localhost:8080/"
        },
        "id": "bNWlrs1UmI8T",
        "outputId": "83c96ac1-f493-4f6c-ae50-36b46658ef59"
      },
      "execution_count": null,
      "outputs": [
        {
          "output_type": "execute_result",
          "data": {
            "text/plain": [
              "array([[ 11,  22,  33],\n",
              "       [ 55,  66,  77],\n",
              "       [ 88,  99, 100]])"
            ]
          },
          "metadata": {},
          "execution_count": 108
        }
      ]
    },
    {
      "cell_type": "markdown",
      "source": [
        "As seen above, there are two dimensions i.e rows and columns. The dimension is also indicated with the number of square brackets the values are enclosed in. List1 has one square bracket enclosing the numbers 11, 23, 34, 56 and hence is of one dimension. But in the case of list2, the first number 11 has two square bracket openings before it and hence the list is of two dimensions, 3 rows and 3 columns."
      ],
      "metadata": {
        "id": "G9Qrwaw4mVhA"
      }
    },
    {
      "cell_type": "markdown",
      "source": [
        "##**How to create NumPy Arrays using built-in methods?**<br>\n",
        "→ Create using the arange method. The arguments are start, stop and step values. The first value is ‘start’ and goes up to (stop-1) just like the range function."
      ],
      "metadata": {
        "id": "Z0fNHpYKmxBN"
      }
    },
    {
      "cell_type": "code",
      "source": [
        "np.arange(0,10,1)"
      ],
      "metadata": {
        "colab": {
          "base_uri": "https://localhost:8080/"
        },
        "id": "rkFlLpTrmWzH",
        "outputId": "88f5d63b-31ac-4b02-e7a2-9ca440ceb14c"
      },
      "execution_count": null,
      "outputs": [
        {
          "output_type": "execute_result",
          "data": {
            "text/plain": [
              "array([0, 1, 2, 3, 4, 5, 6, 7, 8, 9])"
            ]
          },
          "metadata": {},
          "execution_count": 109
        }
      ]
    },
    {
      "cell_type": "markdown",
      "source": [
        "→ Creating an array of all zeros"
      ],
      "metadata": {
        "id": "BiQgdbI3D1Ol"
      }
    },
    {
      "cell_type": "code",
      "source": [
        "np.zeros(5)"
      ],
      "metadata": {
        "colab": {
          "base_uri": "https://localhost:8080/"
        },
        "id": "Ogco6B2fD74j",
        "outputId": "97b9e341-d26e-40cd-8bc6-5c399b6af876"
      },
      "execution_count": null,
      "outputs": [
        {
          "output_type": "execute_result",
          "data": {
            "text/plain": [
              "array([0., 0., 0., 0., 0.])"
            ]
          },
          "metadata": {},
          "execution_count": 110
        }
      ]
    },
    {
      "cell_type": "code",
      "source": [
        "np.zeros((3,2))"
      ],
      "metadata": {
        "colab": {
          "base_uri": "https://localhost:8080/"
        },
        "id": "1bwPNyqSe3KS",
        "outputId": "03347101-2c18-4c26-b136-6a4a099f60a5"
      },
      "execution_count": null,
      "outputs": [
        {
          "output_type": "execute_result",
          "data": {
            "text/plain": [
              "array([[0., 0.],\n",
              "       [0., 0.],\n",
              "       [0., 0.]])"
            ]
          },
          "metadata": {},
          "execution_count": 111
        }
      ]
    },
    {
      "cell_type": "markdown",
      "source": [
        "→ Creating an array of all ones."
      ],
      "metadata": {
        "id": "hri2Lzsxe201"
      }
    },
    {
      "cell_type": "code",
      "source": [
        "np.ones(5)"
      ],
      "metadata": {
        "colab": {
          "base_uri": "https://localhost:8080/"
        },
        "id": "vRllzxRWfJT3",
        "outputId": "af7a91d3-ff42-4726-f347-cca8504c79d1"
      },
      "execution_count": null,
      "outputs": [
        {
          "output_type": "execute_result",
          "data": {
            "text/plain": [
              "array([1., 1., 1., 1., 1.])"
            ]
          },
          "metadata": {},
          "execution_count": 112
        }
      ]
    },
    {
      "cell_type": "markdown",
      "source": [
        "→ Creating an array where the values are spaced equally in an interval. It takes the arguments: start, stop, number of values"
      ],
      "metadata": {
        "id": "BL7T-WhEEFsb"
      }
    },
    {
      "cell_type": "code",
      "source": [
        "np.linspace(1,20,5)"
      ],
      "metadata": {
        "colab": {
          "base_uri": "https://localhost:8080/"
        },
        "id": "KP5Fmm9vfX6a",
        "outputId": "ac3d66bf-1e71-4619-abd7-b957e2bb64ed"
      },
      "execution_count": null,
      "outputs": [
        {
          "output_type": "execute_result",
          "data": {
            "text/plain": [
              "array([ 1.  ,  5.75, 10.5 , 15.25, 20.  ])"
            ]
          },
          "metadata": {},
          "execution_count": 113
        }
      ]
    },
    {
      "cell_type": "markdown",
      "source": [
        "→ Creating an identity matrix."
      ],
      "metadata": {
        "id": "AovlCLrtf6ML"
      }
    },
    {
      "cell_type": "code",
      "source": [
        "np.eye(3)"
      ],
      "metadata": {
        "colab": {
          "base_uri": "https://localhost:8080/"
        },
        "id": "jt61JTKCf47d",
        "outputId": "e1f810b6-1b23-4c84-810c-ce8451e042a3"
      },
      "execution_count": null,
      "outputs": [
        {
          "output_type": "execute_result",
          "data": {
            "text/plain": [
              "array([[1., 0., 0.],\n",
              "       [0., 1., 0.],\n",
              "       [0., 0., 1.]])"
            ]
          },
          "metadata": {},
          "execution_count": 114
        }
      ]
    },
    {
      "cell_type": "markdown",
      "source": [
        "→ Creating an array with random numbers of uniform distribution (0–1)."
      ],
      "metadata": {
        "id": "KnG-UQJFf-Dr"
      }
    },
    {
      "cell_type": "code",
      "source": [
        "np.random.rand(3,2)"
      ],
      "metadata": {
        "colab": {
          "base_uri": "https://localhost:8080/"
        },
        "id": "I2DITiqZgAmz",
        "outputId": "78de47bb-2f40-4fdd-b52e-36a7b5597fe3"
      },
      "execution_count": null,
      "outputs": [
        {
          "output_type": "execute_result",
          "data": {
            "text/plain": [
              "array([[0.09866323, 0.42942747],\n",
              "       [0.09419936, 0.43831584],\n",
              "       [0.99461792, 0.72025053]])"
            ]
          },
          "metadata": {},
          "execution_count": 115
        }
      ]
    },
    {
      "cell_type": "markdown",
      "source": [
        "→ Creating an array with random integers using randint() where the arguments to be passed are low, high and size. Low is inclusive and high is exclusive."
      ],
      "metadata": {
        "id": "PHe2JUsxiAvC"
      }
    },
    {
      "cell_type": "code",
      "source": [
        "np.random.randint(1,50,5)"
      ],
      "metadata": {
        "colab": {
          "base_uri": "https://localhost:8080/"
        },
        "id": "ZkfMbOXwiBR8",
        "outputId": "33aa107e-3205-4134-c64b-42f6534e4926"
      },
      "execution_count": null,
      "outputs": [
        {
          "output_type": "execute_result",
          "data": {
            "text/plain": [
              "array([35, 37, 43, 12, 32])"
            ]
          },
          "metadata": {},
          "execution_count": 116
        }
      ]
    },
    {
      "cell_type": "markdown",
      "source": [
        "## What are the attributes and methods of NumPy Array?\n"
      ],
      "metadata": {
        "id": "y2v6ZVswiE8c"
      }
    },
    {
      "cell_type": "code",
      "source": [
        "arr1 = np.arange(10,100,5)\n",
        "arr1"
      ],
      "metadata": {
        "colab": {
          "base_uri": "https://localhost:8080/"
        },
        "id": "e_I8Ik9GiYns",
        "outputId": "1a2e5322-7650-4a54-a799-7d7de50a4742"
      },
      "execution_count": null,
      "outputs": [
        {
          "output_type": "execute_result",
          "data": {
            "text/plain": [
              "array([10, 15, 20, 25, 30, 35, 40, 45, 50, 55, 60, 65, 70, 75, 80, 85, 90,\n",
              "       95])"
            ]
          },
          "metadata": {},
          "execution_count": 117
        }
      ]
    },
    {
      "cell_type": "markdown",
      "source": [
        "→ Reshape method to change the array into a new shape.<br>\n",
        "Incase while reshaping the matrix is not filled then it will give an error. Make sure that the number of rows multiplied by the number of columns equals the number of elements in the array."
      ],
      "metadata": {
        "id": "lzwq3guWinmb"
      }
    },
    {
      "cell_type": "code",
      "source": [
        "arr1.reshape(3,6)"
      ],
      "metadata": {
        "colab": {
          "base_uri": "https://localhost:8080/"
        },
        "id": "AbaB1_dHioQz",
        "outputId": "9b0d419d-febe-4ecc-f364-22021cb90844"
      },
      "execution_count": null,
      "outputs": [
        {
          "output_type": "execute_result",
          "data": {
            "text/plain": [
              "array([[10, 15, 20, 25, 30, 35],\n",
              "       [40, 45, 50, 55, 60, 65],\n",
              "       [70, 75, 80, 85, 90, 95]])"
            ]
          },
          "metadata": {},
          "execution_count": 118
        }
      ]
    },
    {
      "cell_type": "markdown",
      "source": [
        "→ Finding the maximum and minimum values in the array.\n"
      ],
      "metadata": {
        "id": "j6i0v1Iniwfy"
      }
    },
    {
      "cell_type": "code",
      "source": [
        "arr1.max()"
      ],
      "metadata": {
        "colab": {
          "base_uri": "https://localhost:8080/"
        },
        "id": "KtZDkVyYKBkw",
        "outputId": "a0cfd0d6-fae6-4cff-e84a-3a2bed6fd308"
      },
      "execution_count": null,
      "outputs": [
        {
          "output_type": "execute_result",
          "data": {
            "text/plain": [
              "95"
            ]
          },
          "metadata": {},
          "execution_count": 119
        }
      ]
    },
    {
      "cell_type": "code",
      "source": [
        "arr1.min()"
      ],
      "metadata": {
        "colab": {
          "base_uri": "https://localhost:8080/"
        },
        "id": "2Oxg7z0MKFXX",
        "outputId": "adfcbf1e-8d8f-479f-d130-1823d7088e44"
      },
      "execution_count": null,
      "outputs": [
        {
          "output_type": "execute_result",
          "data": {
            "text/plain": [
              "10"
            ]
          },
          "metadata": {},
          "execution_count": 120
        }
      ]
    },
    {
      "cell_type": "markdown",
      "source": [
        "To know the index at which the max or min value is present, use argmax() or argmin()."
      ],
      "metadata": {
        "id": "X9SY4OCLKLDR"
      }
    },
    {
      "cell_type": "code",
      "source": [
        "arr1.argmax()"
      ],
      "metadata": {
        "colab": {
          "base_uri": "https://localhost:8080/"
        },
        "id": "uN1i_6ZpKMMf",
        "outputId": "8aa8608f-4177-4a9e-dad0-d324bde28dad"
      },
      "execution_count": null,
      "outputs": [
        {
          "output_type": "execute_result",
          "data": {
            "text/plain": [
              "17"
            ]
          },
          "metadata": {},
          "execution_count": 121
        }
      ]
    },
    {
      "cell_type": "code",
      "source": [
        "arr1.argmin()"
      ],
      "metadata": {
        "colab": {
          "base_uri": "https://localhost:8080/"
        },
        "id": "lQHzNsXZKOmC",
        "outputId": "9f6f338f-3a91-4a45-c77c-5874d5704528"
      },
      "execution_count": null,
      "outputs": [
        {
          "output_type": "execute_result",
          "data": {
            "text/plain": [
              "0"
            ]
          },
          "metadata": {},
          "execution_count": 122
        }
      ]
    },
    {
      "cell_type": "markdown",
      "source": [
        " \"shape\" method to find the shape of the array."
      ],
      "metadata": {
        "id": "RfYGzcSKKYeu"
      }
    },
    {
      "cell_type": "code",
      "source": [
        "arr1.shape"
      ],
      "metadata": {
        "colab": {
          "base_uri": "https://localhost:8080/"
        },
        "id": "F1_26sNZKX5Z",
        "outputId": "d84cdc17-37bd-4e32-df50-14b8ab3bcb46"
      },
      "execution_count": null,
      "outputs": [
        {
          "output_type": "execute_result",
          "data": {
            "text/plain": [
              "(18,)"
            ]
          },
          "metadata": {},
          "execution_count": 123
        }
      ]
    },
    {
      "cell_type": "code",
      "source": [
        "arr1_reshape=arr1.reshape(3,6)\n",
        "arr1_reshape.shape"
      ],
      "metadata": {
        "colab": {
          "base_uri": "https://localhost:8080/"
        },
        "id": "1iXTVAY2Kj0v",
        "outputId": "b2ea9919-b6b7-4bf3-8e2d-dd5a4112804b"
      },
      "execution_count": null,
      "outputs": [
        {
          "output_type": "execute_result",
          "data": {
            "text/plain": [
              "(3, 6)"
            ]
          },
          "metadata": {},
          "execution_count": 124
        }
      ]
    },
    {
      "cell_type": "markdown",
      "source": [
        "→ Finding the datatype of the elements in the array."
      ],
      "metadata": {
        "id": "XZ-gXJYdKtk4"
      }
    },
    {
      "cell_type": "code",
      "source": [
        "arr1.dtype"
      ],
      "metadata": {
        "colab": {
          "base_uri": "https://localhost:8080/"
        },
        "id": "WU6zVxjTKxd4",
        "outputId": "30e863fd-f87c-44ad-c00c-8b8e2292802c"
      },
      "execution_count": null,
      "outputs": [
        {
          "output_type": "execute_result",
          "data": {
            "text/plain": [
              "dtype('int64')"
            ]
          },
          "metadata": {},
          "execution_count": 125
        }
      ]
    },
    {
      "cell_type": "markdown",
      "source": [
        "## **Indexing and Slicing**\n",
        "###  **1D Numpy array**"
      ],
      "metadata": {
        "id": "NMyYX1kFLpt3"
      }
    },
    {
      "cell_type": "markdown",
      "source": [
        "To select(slice) a particular element."
      ],
      "metadata": {
        "id": "qknZzXeOL85e"
      }
    },
    {
      "cell_type": "code",
      "source": [
        "arr1[4]"
      ],
      "metadata": {
        "colab": {
          "base_uri": "https://localhost:8080/"
        },
        "id": "xSTmb8wtMDu-",
        "outputId": "57435f7b-c86f-4061-ff70-dccb4c4a3f62"
      },
      "execution_count": null,
      "outputs": [
        {
          "output_type": "execute_result",
          "data": {
            "text/plain": [
              "30"
            ]
          },
          "metadata": {},
          "execution_count": 126
        }
      ]
    },
    {
      "cell_type": "code",
      "source": [
        "arr1[3:7]"
      ],
      "metadata": {
        "colab": {
          "base_uri": "https://localhost:8080/"
        },
        "id": "ay4SncLiMY2p",
        "outputId": "08c0ab26-1bbc-4eac-9e47-8c2af3f19958"
      },
      "execution_count": null,
      "outputs": [
        {
          "output_type": "execute_result",
          "data": {
            "text/plain": [
              "array([25, 30, 35, 40])"
            ]
          },
          "metadata": {},
          "execution_count": 127
        }
      ]
    },
    {
      "cell_type": "markdown",
      "source": [
        "To replace(broadcast) particular elements in the array."
      ],
      "metadata": {
        "id": "XS1hoUzaMfdX"
      }
    },
    {
      "cell_type": "code",
      "source": [
        "arr1[3:7]=50\n",
        "arr1"
      ],
      "metadata": {
        "colab": {
          "base_uri": "https://localhost:8080/"
        },
        "id": "FwTMp2NFMe03",
        "outputId": "d248b4ce-c72c-4d7b-ea91-65fbd026814d"
      },
      "execution_count": null,
      "outputs": [
        {
          "output_type": "execute_result",
          "data": {
            "text/plain": [
              "array([10, 15, 20, 50, 50, 50, 50, 45, 50, 55, 60, 65, 70, 75, 80, 85, 90,\n",
              "       95])"
            ]
          },
          "metadata": {},
          "execution_count": 128
        }
      ]
    },
    {
      "cell_type": "code",
      "source": [
        "#arr1[:]=100\n",
        "#arr1"
      ],
      "metadata": {
        "id": "EZSqdndSM_BP"
      },
      "execution_count": null,
      "outputs": []
    },
    {
      "cell_type": "markdown",
      "source": [
        "To create a new array with these changes rather than changing the original array, we can create a copy of arr1."
      ],
      "metadata": {
        "id": "GDM66dNrNTJ-"
      }
    },
    {
      "cell_type": "code",
      "source": [
        "arr1_copy=arr1.copy()\n",
        "arr1_copy[12:16]=60\n",
        "arr1_copy"
      ],
      "metadata": {
        "colab": {
          "base_uri": "https://localhost:8080/"
        },
        "id": "eAs9JDcFNSfA",
        "outputId": "48370baa-de43-4e27-ec77-cd3967ade8f8"
      },
      "execution_count": null,
      "outputs": [
        {
          "output_type": "execute_result",
          "data": {
            "text/plain": [
              "array([10, 15, 20, 50, 50, 50, 50, 45, 50, 55, 60, 65, 60, 60, 60, 60, 90,\n",
              "       95])"
            ]
          },
          "metadata": {},
          "execution_count": 153
        }
      ]
    },
    {
      "cell_type": "code",
      "source": [
        "arr1"
      ],
      "metadata": {
        "colab": {
          "base_uri": "https://localhost:8080/"
        },
        "id": "xPjurEU7OgVG",
        "outputId": "902596f3-fd3e-465c-ef55-8133f8152d00"
      },
      "execution_count": null,
      "outputs": [
        {
          "output_type": "execute_result",
          "data": {
            "text/plain": [
              "array([10, 15, 20, 50, 50, 50, 50, 45, 50, 55, 60, 65, 70, 75, 80, 85, 90,\n",
              "       95])"
            ]
          },
          "metadata": {},
          "execution_count": 131
        }
      ]
    },
    {
      "cell_type": "markdown",
      "source": [
        "### 2D Numpy Array"
      ],
      "metadata": {
        "id": "2-Cd7IGYOnAg"
      }
    },
    {
      "cell_type": "code",
      "source": [
        "arr2 = np.array([[1,2,3],[4,5,6],[7,8,9]])\n",
        "arr2"
      ],
      "metadata": {
        "colab": {
          "base_uri": "https://localhost:8080/"
        },
        "id": "OceI_OZ-OicP",
        "outputId": "a850f2fd-3d35-4feb-a1f3-45817238eaf9"
      },
      "execution_count": null,
      "outputs": [
        {
          "output_type": "execute_result",
          "data": {
            "text/plain": [
              "array([[1, 2, 3],\n",
              "       [4, 5, 6],\n",
              "       [7, 8, 9]])"
            ]
          },
          "metadata": {},
          "execution_count": 132
        }
      ]
    },
    {
      "cell_type": "markdown",
      "source": [
        "Indexing:Two different brackets starting with row values and ending with column values."
      ],
      "metadata": {
        "id": "w14S1S4jOzTW"
      }
    },
    {
      "cell_type": "code",
      "source": [
        "arr2[1][2]"
      ],
      "metadata": {
        "colab": {
          "base_uri": "https://localhost:8080/"
        },
        "id": "2u-6VfZlOyh2",
        "outputId": "cee0935d-fdb8-4d85-8c87-6f53105ac1a6"
      },
      "execution_count": null,
      "outputs": [
        {
          "output_type": "execute_result",
          "data": {
            "text/plain": [
              "6"
            ]
          },
          "metadata": {},
          "execution_count": 154
        }
      ]
    },
    {
      "cell_type": "markdown",
      "source": [
        "To get the subpart of a matrix: \":value\" will consider all rows/columns before that value row/column(exclusive). \"value:\" will consider all rows/columns after value row/column(inclusive)."
      ],
      "metadata": {
        "id": "fe2NWAAKJ8wk"
      }
    },
    {
      "cell_type": "code",
      "source": [
        "arr2[:1,1:]"
      ],
      "metadata": {
        "colab": {
          "base_uri": "https://localhost:8080/"
        },
        "id": "K5eYW86UJHVh",
        "outputId": "970c8fe3-06e2-4bb6-e723-f419ca6e3407"
      },
      "execution_count": null,
      "outputs": [
        {
          "output_type": "execute_result",
          "data": {
            "text/plain": [
              "array([[2, 3]])"
            ]
          },
          "metadata": {},
          "execution_count": 134
        }
      ]
    },
    {
      "cell_type": "code",
      "source": [
        "arr2[0:,:1]"
      ],
      "metadata": {
        "colab": {
          "base_uri": "https://localhost:8080/"
        },
        "id": "Sy7S3YQdKxT0",
        "outputId": "9077559a-3945-4d6d-e545-0a066b52a607"
      },
      "execution_count": null,
      "outputs": [
        {
          "output_type": "execute_result",
          "data": {
            "text/plain": [
              "array([[1],\n",
              "       [4],\n",
              "       [7]])"
            ]
          },
          "metadata": {},
          "execution_count": 135
        }
      ]
    },
    {
      "cell_type": "markdown",
      "source": [
        "## How to perform conditional selection using a boolean array?"
      ],
      "metadata": {
        "id": "itc1s9NpLOfu"
      }
    },
    {
      "cell_type": "code",
      "source": [
        "boolean_arr=arr1>45\n",
        "boolean_arr"
      ],
      "metadata": {
        "colab": {
          "base_uri": "https://localhost:8080/"
        },
        "id": "1YAkZHzXLlDJ",
        "outputId": "8ed1c18b-90f4-4c1b-93a8-fc9a9f8d24ff"
      },
      "execution_count": null,
      "outputs": [
        {
          "output_type": "execute_result",
          "data": {
            "text/plain": [
              "array([False, False, False,  True,  True,  True,  True, False,  True,\n",
              "        True,  True,  True,  True,  True,  True,  True,  True,  True])"
            ]
          },
          "metadata": {},
          "execution_count": 136
        }
      ]
    },
    {
      "cell_type": "markdown",
      "source": [
        "To get the values where True:"
      ],
      "metadata": {
        "id": "52ALHZ0QLfru"
      }
    },
    {
      "cell_type": "code",
      "source": [
        "arr1[arr1>45]"
      ],
      "metadata": {
        "colab": {
          "base_uri": "https://localhost:8080/"
        },
        "id": "NwyBTBpWL3Bu",
        "outputId": "4a4a57f5-1323-4104-83c8-78a7192a011e"
      },
      "execution_count": null,
      "outputs": [
        {
          "output_type": "execute_result",
          "data": {
            "text/plain": [
              "array([50, 50, 50, 50, 50, 55, 60, 65, 70, 75, 80, 85, 90, 95])"
            ]
          },
          "metadata": {},
          "execution_count": 137
        }
      ]
    },
    {
      "cell_type": "code",
      "source": [
        "arr1[boolean_arr]"
      ],
      "metadata": {
        "colab": {
          "base_uri": "https://localhost:8080/"
        },
        "id": "6JcMPyOnMNiE",
        "outputId": "603a0b44-f853-4362-9499-775c12a0fd40"
      },
      "execution_count": null,
      "outputs": [
        {
          "output_type": "execute_result",
          "data": {
            "text/plain": [
              "array([50, 50, 50, 50, 50, 55, 60, 65, 70, 75, 80, 85, 90, 95])"
            ]
          },
          "metadata": {},
          "execution_count": 138
        }
      ]
    },
    {
      "cell_type": "markdown",
      "source": [
        "## Arithmetic Operations on arrays<br>\n",
        "Arithmetic operations work element-wise on numpy arrays."
      ],
      "metadata": {
        "id": "wRWDgO41MZ6B"
      }
    },
    {
      "cell_type": "code",
      "source": [
        "arr1+arr1"
      ],
      "metadata": {
        "colab": {
          "base_uri": "https://localhost:8080/"
        },
        "id": "vaAD9BtQM3eg",
        "outputId": "e1f1f65d-f26e-4833-ff60-5d0f7b297dfc"
      },
      "execution_count": null,
      "outputs": [
        {
          "output_type": "execute_result",
          "data": {
            "text/plain": [
              "array([ 20,  30,  40, 100, 100, 100, 100,  90, 100, 110, 120, 130, 140,\n",
              "       150, 160, 170, 180, 190])"
            ]
          },
          "metadata": {},
          "execution_count": 139
        }
      ]
    },
    {
      "cell_type": "code",
      "source": [
        "arr1*arr1"
      ],
      "metadata": {
        "colab": {
          "base_uri": "https://localhost:8080/"
        },
        "id": "sxzmvyOYM5n-",
        "outputId": "0178477c-b4df-49ba-9d86-5b4f948ddbf2"
      },
      "execution_count": null,
      "outputs": [
        {
          "output_type": "execute_result",
          "data": {
            "text/plain": [
              "array([ 100,  225,  400, 2500, 2500, 2500, 2500, 2025, 2500, 3025, 3600,\n",
              "       4225, 4900, 5625, 6400, 7225, 8100, 9025])"
            ]
          },
          "metadata": {},
          "execution_count": 140
        }
      ]
    },
    {
      "cell_type": "markdown",
      "source": [
        "For matrices, the shapes should match, otherwise we get an error."
      ],
      "metadata": {
        "id": "xttBnyMYNJYS"
      }
    },
    {
      "cell_type": "code",
      "source": [
        "arr3=np.array([[9,8,7,6],[4,5,6,9],[2,5,3,5]]) #3x4 matrix\n",
        "arr4=np.array([[9,8,7],[4,5,6],[2,5,3],[6,9,5]]) #4x3 matrix\n",
        "arr3*arr4.T #Transposing arr4"
      ],
      "metadata": {
        "colab": {
          "base_uri": "https://localhost:8080/"
        },
        "id": "AbKmP4rrM_vS",
        "outputId": "f53220d4-a124-43fa-a388-509344096094"
      },
      "execution_count": null,
      "outputs": [
        {
          "output_type": "execute_result",
          "data": {
            "text/plain": [
              "array([[81, 32, 14, 36],\n",
              "       [32, 25, 30, 81],\n",
              "       [14, 30,  9, 25]])"
            ]
          },
          "metadata": {},
          "execution_count": 141
        }
      ]
    },
    {
      "cell_type": "code",
      "source": [
        "arr3*arr4"
      ],
      "metadata": {
        "colab": {
          "base_uri": "https://localhost:8080/",
          "height": 141
        },
        "id": "OZX9zEzlO00v",
        "outputId": "1cc3d1df-5c87-435d-edbb-dee9df802928"
      },
      "execution_count": null,
      "outputs": [
        {
          "output_type": "error",
          "ename": "ValueError",
          "evalue": "operands could not be broadcast together with shapes (3,4) (4,3) ",
          "traceback": [
            "\u001b[0;31m---------------------------------------------------------------------------\u001b[0m",
            "\u001b[0;31mValueError\u001b[0m                                Traceback (most recent call last)",
            "\u001b[0;32m<ipython-input-155-0bf11ecf2903>\u001b[0m in \u001b[0;36m<cell line: 1>\u001b[0;34m()\u001b[0m\n\u001b[0;32m----> 1\u001b[0;31m \u001b[0marr3\u001b[0m\u001b[0;34m*\u001b[0m\u001b[0marr4\u001b[0m\u001b[0;34m\u001b[0m\u001b[0;34m\u001b[0m\u001b[0m\n\u001b[0m",
            "\u001b[0;31mValueError\u001b[0m: operands could not be broadcast together with shapes (3,4) (4,3) "
          ]
        }
      ]
    },
    {
      "cell_type": "markdown",
      "source": [
        "##**How to perform NumPy array universal functions?**\n",
        "→ Finding the square root of each element in the array.\n",
        "\n"
      ],
      "metadata": {
        "id": "IqS35zCiPMp3"
      }
    },
    {
      "cell_type": "code",
      "source": [
        "np.sqrt(arr3)"
      ],
      "metadata": {
        "colab": {
          "base_uri": "https://localhost:8080/"
        },
        "id": "zPSP4FPVNDNh",
        "outputId": "daa6831a-a492-4b72-8f66-9bd6fc03f049"
      },
      "execution_count": null,
      "outputs": [
        {
          "output_type": "execute_result",
          "data": {
            "text/plain": [
              "array([[3.        , 2.82842712, 2.64575131, 2.44948974],\n",
              "       [2.        , 2.23606798, 2.44948974, 3.        ],\n",
              "       [1.41421356, 2.23606798, 1.73205081, 2.23606798]])"
            ]
          },
          "metadata": {},
          "execution_count": 143
        }
      ]
    },
    {
      "cell_type": "markdown",
      "source": [
        "→ Finding the exponential of each element in the array."
      ],
      "metadata": {
        "id": "QCGWrrPNP7I7"
      }
    },
    {
      "cell_type": "code",
      "source": [
        "np.exp(arr3)"
      ],
      "metadata": {
        "colab": {
          "base_uri": "https://localhost:8080/"
        },
        "id": "AAiWvUAvPlDN",
        "outputId": "529c4d7b-e842-448a-8a47-7c19ade71656"
      },
      "execution_count": null,
      "outputs": [
        {
          "output_type": "execute_result",
          "data": {
            "text/plain": [
              "array([[8.10308393e+03, 2.98095799e+03, 1.09663316e+03, 4.03428793e+02],\n",
              "       [5.45981500e+01, 1.48413159e+02, 4.03428793e+02, 8.10308393e+03],\n",
              "       [7.38905610e+00, 1.48413159e+02, 2.00855369e+01, 1.48413159e+02]])"
            ]
          },
          "metadata": {},
          "execution_count": 144
        }
      ]
    },
    {
      "cell_type": "markdown",
      "source": [
        "→ Finding the maximum of the array."
      ],
      "metadata": {
        "id": "3gMBBNSTQFsQ"
      }
    },
    {
      "cell_type": "code",
      "source": [
        "arr3.max()"
      ],
      "metadata": {
        "colab": {
          "base_uri": "https://localhost:8080/"
        },
        "id": "IcjgPhzKPn_a",
        "outputId": "28cdefbe-10de-44b4-e3e5-cb42f85d0845"
      },
      "execution_count": null,
      "outputs": [
        {
          "output_type": "execute_result",
          "data": {
            "text/plain": [
              "9"
            ]
          },
          "metadata": {},
          "execution_count": 145
        }
      ]
    },
    {
      "cell_type": "markdown",
      "source": [
        "→ Trigonometric functions"
      ],
      "metadata": {
        "id": "reEAp2VOQIu3"
      }
    },
    {
      "cell_type": "code",
      "source": [
        "np.sin(arr3)"
      ],
      "metadata": {
        "colab": {
          "base_uri": "https://localhost:8080/"
        },
        "id": "UvNMHmPTP023",
        "outputId": "62a4a863-19e5-46e5-dc9f-41e6b4cf9e7d"
      },
      "execution_count": null,
      "outputs": [
        {
          "output_type": "execute_result",
          "data": {
            "text/plain": [
              "array([[ 0.41211849,  0.98935825,  0.6569866 , -0.2794155 ],\n",
              "       [-0.7568025 , -0.95892427, -0.2794155 ,  0.41211849],\n",
              "       [ 0.90929743, -0.95892427,  0.14112001, -0.95892427]])"
            ]
          },
          "metadata": {},
          "execution_count": 146
        }
      ]
    },
    {
      "cell_type": "markdown",
      "source": [
        "→ Logarithmic function"
      ],
      "metadata": {
        "id": "a6jh-vzDQJo2"
      }
    },
    {
      "cell_type": "code",
      "source": [
        "np.log(arr3)"
      ],
      "metadata": {
        "colab": {
          "base_uri": "https://localhost:8080/"
        },
        "id": "yLr-fAPWP3yt",
        "outputId": "f6ce2ff3-3761-4cd4-f3d4-4925fd52dc75"
      },
      "execution_count": null,
      "outputs": [
        {
          "output_type": "execute_result",
          "data": {
            "text/plain": [
              "array([[2.19722458, 2.07944154, 1.94591015, 1.79175947],\n",
              "       [1.38629436, 1.60943791, 1.79175947, 2.19722458],\n",
              "       [0.69314718, 1.60943791, 1.09861229, 1.60943791]])"
            ]
          },
          "metadata": {},
          "execution_count": 147
        }
      ]
    },
    {
      "cell_type": "markdown",
      "source": [
        "##Difference between dot product and multiplication of matrices<br>\n",
        "multiply() multiplies each value of one matrix to the corresponding value at the same position in the other matrix. Requires both matrices to be of the same shape.<br>\n",
        "<br>\n",
        "dot() on the other hand multiplies two matrices where the inner dimension of one should match the outer dimension of the other, which will give a resultant matrix of the remaining two dimensions. Eg a 4x3 matric and a 3x4 matrix, when multiplied, will give a 4x4 matrix."
      ],
      "metadata": {
        "id": "1i6a2UGg-n-w"
      }
    },
    {
      "cell_type": "code",
      "source": [
        "np.dot(arr3,arr4)"
      ],
      "metadata": {
        "colab": {
          "base_uri": "https://localhost:8080/"
        },
        "id": "a8--b9U0CWwx",
        "outputId": "d4e3d927-8128-4d15-ef02-43f31612b54b"
      },
      "execution_count": null,
      "outputs": [
        {
          "output_type": "execute_result",
          "data": {
            "text/plain": [
              "array([[163, 201, 162],\n",
              "       [122, 168, 121],\n",
              "       [ 74, 101,  78]])"
            ]
          },
          "metadata": {},
          "execution_count": 148
        }
      ]
    },
    {
      "cell_type": "code",
      "source": [
        "np.multiply(arr3,arr3)"
      ],
      "metadata": {
        "colab": {
          "base_uri": "https://localhost:8080/"
        },
        "id": "nBFbwxP7_Yu3",
        "outputId": "269faf06-8500-4daf-cac6-fe4afb5d18bf"
      },
      "execution_count": null,
      "outputs": [
        {
          "output_type": "execute_result",
          "data": {
            "text/plain": [
              "array([[81, 64, 49, 36],\n",
              "       [16, 25, 36, 81],\n",
              "       [ 4, 25,  9, 25]])"
            ]
          },
          "metadata": {},
          "execution_count": 149
        }
      ]
    },
    {
      "cell_type": "markdown",
      "source": [
        "##The ravel() function<br>\n",
        "Helps flatten an array of more than one dimension into a single dimension"
      ],
      "metadata": {
        "id": "8qvt3vevJpFP"
      }
    },
    {
      "cell_type": "code",
      "source": [
        "arr3"
      ],
      "metadata": {
        "colab": {
          "base_uri": "https://localhost:8080/"
        },
        "id": "okSlEpdHLRUD",
        "outputId": "6917fcd2-b2a6-40ca-ca31-5065d98c3942"
      },
      "execution_count": null,
      "outputs": [
        {
          "output_type": "execute_result",
          "data": {
            "text/plain": [
              "array([[9, 8, 7, 6],\n",
              "       [4, 5, 6, 9],\n",
              "       [2, 5, 3, 5]])"
            ]
          },
          "metadata": {},
          "execution_count": 150
        }
      ]
    },
    {
      "cell_type": "code",
      "source": [
        "arr3.ravel()"
      ],
      "metadata": {
        "colab": {
          "base_uri": "https://localhost:8080/"
        },
        "id": "oG0N0OezK_An",
        "outputId": "5b29f929-1e8a-4ef3-f3c9-40bf411a9106"
      },
      "execution_count": null,
      "outputs": [
        {
          "output_type": "execute_result",
          "data": {
            "text/plain": [
              "array([9, 8, 7, 6, 4, 5, 6, 9, 2, 5, 3, 5])"
            ]
          },
          "metadata": {},
          "execution_count": 151
        }
      ]
    },
    {
      "cell_type": "markdown",
      "source": [
        "##reshape(1,-1)\n",
        "  Does the same job as ravel() but does not decrease the number of dimensions, it just fits all values in a single line."
      ],
      "metadata": {
        "id": "Bt3cVbc8Lvyr"
      }
    },
    {
      "cell_type": "code",
      "source": [
        "arr3.reshape(1,-1) #As you can see the number of dimensions is still 2"
      ],
      "metadata": {
        "colab": {
          "base_uri": "https://localhost:8080/"
        },
        "id": "mLxcerwjLwtb",
        "outputId": "883008e3-650d-47f3-e956-e0c76824785e"
      },
      "execution_count": null,
      "outputs": [
        {
          "output_type": "execute_result",
          "data": {
            "text/plain": [
              "array([[9, 8, 7, 6, 4, 5, 6, 9, 2, 5, 3, 5]])"
            ]
          },
          "metadata": {},
          "execution_count": 152
        }
      ]
    }
  ]
}