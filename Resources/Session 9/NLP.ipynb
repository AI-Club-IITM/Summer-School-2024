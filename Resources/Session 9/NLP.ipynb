{
  "nbformat": 4,
  "nbformat_minor": 0,
  "metadata": {
    "colab": {
      "provenance": []
    },
    "kernelspec": {
      "name": "python3",
      "display_name": "Python 3"
    },
    "language_info": {
      "name": "python"
    }
  },
  "cells": [
    {
      "cell_type": "markdown",
      "source": [
        "#Data Pre-processing in NLP"
      ],
      "metadata": {
        "id": "Yu_0ODb9Ee02"
      }
    },
    {
      "cell_type": "code",
      "source": [
        "# Installing and importing nltk library\n",
        "import nltk\n",
        "\n",
        "nltk.download(\"popular\")"
      ],
      "metadata": {
        "id": "XaBaO11rE3ku",
        "colab": {
          "base_uri": "https://localhost:8080/"
        },
        "outputId": "5bc399bd-c596-4b54-a020-08bdee8053f4"
      },
      "execution_count": null,
      "outputs": [
        {
          "output_type": "stream",
          "name": "stderr",
          "text": [
            "[nltk_data] Downloading collection 'popular'\n",
            "[nltk_data]    | \n",
            "[nltk_data]    | Downloading package cmudict to /root/nltk_data...\n",
            "[nltk_data]    |   Unzipping corpora/cmudict.zip.\n",
            "[nltk_data]    | Downloading package gazetteers to /root/nltk_data...\n",
            "[nltk_data]    |   Unzipping corpora/gazetteers.zip.\n",
            "[nltk_data]    | Downloading package genesis to /root/nltk_data...\n",
            "[nltk_data]    |   Unzipping corpora/genesis.zip.\n",
            "[nltk_data]    | Downloading package gutenberg to /root/nltk_data...\n",
            "[nltk_data]    |   Unzipping corpora/gutenberg.zip.\n",
            "[nltk_data]    | Downloading package inaugural to /root/nltk_data...\n",
            "[nltk_data]    |   Unzipping corpora/inaugural.zip.\n",
            "[nltk_data]    | Downloading package movie_reviews to\n",
            "[nltk_data]    |     /root/nltk_data...\n",
            "[nltk_data]    |   Unzipping corpora/movie_reviews.zip.\n",
            "[nltk_data]    | Downloading package names to /root/nltk_data...\n",
            "[nltk_data]    |   Unzipping corpora/names.zip.\n",
            "[nltk_data]    | Downloading package shakespeare to /root/nltk_data...\n",
            "[nltk_data]    |   Unzipping corpora/shakespeare.zip.\n",
            "[nltk_data]    | Downloading package stopwords to /root/nltk_data...\n",
            "[nltk_data]    |   Unzipping corpora/stopwords.zip.\n",
            "[nltk_data]    | Downloading package treebank to /root/nltk_data...\n",
            "[nltk_data]    |   Unzipping corpora/treebank.zip.\n",
            "[nltk_data]    | Downloading package twitter_samples to\n",
            "[nltk_data]    |     /root/nltk_data...\n",
            "[nltk_data]    |   Unzipping corpora/twitter_samples.zip.\n",
            "[nltk_data]    | Downloading package omw to /root/nltk_data...\n",
            "[nltk_data]    | Downloading package omw-1.4 to /root/nltk_data...\n",
            "[nltk_data]    | Downloading package wordnet to /root/nltk_data...\n",
            "[nltk_data]    | Downloading package wordnet2021 to /root/nltk_data...\n",
            "[nltk_data]    | Downloading package wordnet31 to /root/nltk_data...\n",
            "[nltk_data]    | Downloading package wordnet_ic to /root/nltk_data...\n",
            "[nltk_data]    |   Unzipping corpora/wordnet_ic.zip.\n",
            "[nltk_data]    | Downloading package words to /root/nltk_data...\n",
            "[nltk_data]    |   Unzipping corpora/words.zip.\n",
            "[nltk_data]    | Downloading package maxent_ne_chunker to\n",
            "[nltk_data]    |     /root/nltk_data...\n",
            "[nltk_data]    |   Unzipping chunkers/maxent_ne_chunker.zip.\n",
            "[nltk_data]    | Downloading package punkt to /root/nltk_data...\n",
            "[nltk_data]    |   Unzipping tokenizers/punkt.zip.\n",
            "[nltk_data]    | Downloading package snowball_data to\n",
            "[nltk_data]    |     /root/nltk_data...\n",
            "[nltk_data]    | Downloading package averaged_perceptron_tagger to\n",
            "[nltk_data]    |     /root/nltk_data...\n",
            "[nltk_data]    |   Unzipping taggers/averaged_perceptron_tagger.zip.\n",
            "[nltk_data]    | \n",
            "[nltk_data]  Done downloading collection popular\n"
          ]
        },
        {
          "output_type": "execute_result",
          "data": {
            "text/plain": [
              "True"
            ]
          },
          "metadata": {},
          "execution_count": 1
        }
      ]
    },
    {
      "cell_type": "markdown",
      "source": [
        "Displaying the content of text file"
      ],
      "metadata": {
        "id": "AJrA5xa5mKyk"
      }
    },
    {
      "cell_type": "code",
      "source": [
        "#To get the text file used :\n",
        "!wget https://raw.githubusercontent.com/towardsai/tutorials/master/natural_language_processing/Natural_Language_Processing_Text.txt\n",
        "\n",
        "#Open the text file :\n",
        "text_file = open(\"Natural_Language_Processing_Text.txt\")\n",
        "\n",
        "#Read the data :\n",
        "text = text_file.read()\n",
        "\n",
        "#Datatype of the data read :\n",
        "print (type(text))\n",
        "print(\"\\n\")\n",
        "\n",
        "#Print the text :\n",
        "print(text)\n",
        "print(\"\\n\")\n",
        "#Length of the text :\n",
        "print (len(text))"
      ],
      "metadata": {
        "colab": {
          "base_uri": "https://localhost:8080/"
        },
        "id": "mtyhpgYMly9n",
        "outputId": "6c399828-fba6-4121-b905-ff375d53d3d1"
      },
      "execution_count": null,
      "outputs": [
        {
          "output_type": "stream",
          "name": "stdout",
          "text": [
            "--2024-07-05 08:25:04--  https://raw.githubusercontent.com/towardsai/tutorials/master/natural_language_processing/Natural_Language_Processing_Text.txt\n",
            "Resolving raw.githubusercontent.com (raw.githubusercontent.com)... 185.199.108.133, 185.199.109.133, 185.199.110.133, ...\n",
            "Connecting to raw.githubusercontent.com (raw.githubusercontent.com)|185.199.108.133|:443... connected.\n",
            "HTTP request sent, awaiting response... 200 OK\n",
            "Length: 679 [text/plain]\n",
            "Saving to: ‘Natural_Language_Processing_Text.txt’\n",
            "\n",
            "Natural_Language_Pr 100%[===================>]     679  --.-KB/s    in 0s      \n",
            "\n",
            "2024-07-05 08:25:04 (12.6 MB/s) - ‘Natural_Language_Processing_Text.txt’ saved [679/679]\n",
            "\n",
            "<class 'str'>\n",
            "\n",
            "\n",
            "Once upon a time there was an old mother pig who had three little pigs and not enough food to feed them. So when they were old enough, she sent them out into the world to seek their fortunes.\n",
            "\n",
            "The first little pig was very lazy. He didn't want to work at all and he built his house out of straw. The second little pig worked a little bit harder but he was somewhat lazy too and he built his house out of sticks. Then, they sang and danced and played together the rest of the day.\n",
            "\n",
            "The third little pig worked hard all day and built his house with bricks. It was a sturdy house complete with a fine fireplace and chimney. It looked like it could withstand the strongest winds.\n",
            "\n",
            "\n",
            "675\n"
          ]
        }
      ]
    },
    {
      "cell_type": "markdown",
      "source": [
        "##Tokenization"
      ],
      "metadata": {
        "id": "IwVDUuDqEjRc"
      }
    },
    {
      "cell_type": "code",
      "source": [
        "from nltk import word_tokenize\n",
        "\n",
        "#Tokenize the text with words :\n",
        "words = word_tokenize(text)\n",
        "\n",
        "#Print words :\n",
        "print (words)"
      ],
      "metadata": {
        "colab": {
          "base_uri": "https://localhost:8080/"
        },
        "id": "V0W_v5gzmr2V",
        "outputId": "0d6c10bc-41df-4cf5-ef75-b2dfa9f93309"
      },
      "execution_count": null,
      "outputs": [
        {
          "output_type": "stream",
          "name": "stdout",
          "text": [
            "['Once', 'upon', 'a', 'time', 'there', 'was', 'an', 'old', 'mother', 'pig', 'who', 'had', 'three', 'little', 'pigs', 'and', 'not', 'enough', 'food', 'to', 'feed', 'them', '.', 'So', 'when', 'they', 'were', 'old', 'enough', ',', 'she', 'sent', 'them', 'out', 'into', 'the', 'world', 'to', 'seek', 'their', 'fortunes', '.', 'The', 'first', 'little', 'pig', 'was', 'very', 'lazy', '.', 'He', 'did', \"n't\", 'want', 'to', 'work', 'at', 'all', 'and', 'he', 'built', 'his', 'house', 'out', 'of', 'straw', '.', 'The', 'second', 'little', 'pig', 'worked', 'a', 'little', 'bit', 'harder', 'but', 'he', 'was', 'somewhat', 'lazy', 'too', 'and', 'he', 'built', 'his', 'house', 'out', 'of', 'sticks', '.', 'Then', ',', 'they', 'sang', 'and', 'danced', 'and', 'played', 'together', 'the', 'rest', 'of', 'the', 'day', '.', 'The', 'third', 'little', 'pig', 'worked', 'hard', 'all', 'day', 'and', 'built', 'his', 'house', 'with', 'bricks', '.', 'It', 'was', 'a', 'sturdy', 'house', 'complete', 'with', 'a', 'fine', 'fireplace', 'and', 'chimney', '.', 'It', 'looked', 'like', 'it', 'could', 'withstand', 'the', 'strongest', 'winds', '.']\n"
          ]
        }
      ]
    },
    {
      "cell_type": "code",
      "source": [
        "from nltk import sent_tokenize\n",
        "\n",
        "#Tokenize the text by sentences :\n",
        "sentences = sent_tokenize(text)\n",
        "\n",
        "#print(sentences)\n",
        "sentences"
      ],
      "metadata": {
        "colab": {
          "base_uri": "https://localhost:8080/"
        },
        "id": "0upstlPmnPqJ",
        "outputId": "d03c2358-6b9a-41fb-d57a-61fb18dc73a4"
      },
      "execution_count": null,
      "outputs": [
        {
          "output_type": "execute_result",
          "data": {
            "text/plain": [
              "['Once upon a time there was an old mother pig who had three little pigs and not enough food to feed them.',\n",
              " 'So when they were old enough, she sent them out into the world to seek their fortunes.',\n",
              " 'The first little pig was very lazy.',\n",
              " \"He didn't want to work at all and he built his house out of straw.\",\n",
              " 'The second little pig worked a little bit harder but he was somewhat lazy too and he built his house out of sticks.',\n",
              " 'Then, they sang and danced and played together the rest of the day.',\n",
              " 'The third little pig worked hard all day and built his house with bricks.',\n",
              " 'It was a sturdy house complete with a fine fireplace and chimney.',\n",
              " 'It looked like it could withstand the strongest winds.']"
            ]
          },
          "metadata": {},
          "execution_count": 4
        }
      ]
    },
    {
      "cell_type": "markdown",
      "source": [
        "##Removing Punctuation"
      ],
      "metadata": {
        "id": "txwD9fw01GIr"
      }
    },
    {
      "cell_type": "code",
      "source": [
        "#Empty list to store words:\n",
        "words_no_punc = []\n",
        "\n",
        "#Removing punctuation marks :\n",
        "for w in words:\n",
        "    if w.isalpha():\n",
        "        words_no_punc.append(w.lower())\n",
        "\n",
        "#Print the words without punctution marks :\n",
        "print (words_no_punc)"
      ],
      "metadata": {
        "id": "LrFMpBcooLXF",
        "colab": {
          "base_uri": "https://localhost:8080/"
        },
        "outputId": "103b7114-7368-478a-fe80-406b2b8eacd8"
      },
      "execution_count": null,
      "outputs": [
        {
          "output_type": "stream",
          "name": "stdout",
          "text": [
            "['once', 'upon', 'a', 'time', 'there', 'was', 'an', 'old', 'mother', 'pig', 'who', 'had', 'three', 'little', 'pigs', 'and', 'not', 'enough', 'food', 'to', 'feed', 'them', 'so', 'when', 'they', 'were', 'old', 'enough', 'she', 'sent', 'them', 'out', 'into', 'the', 'world', 'to', 'seek', 'their', 'fortunes', 'the', 'first', 'little', 'pig', 'was', 'very', 'lazy', 'he', 'did', 'want', 'to', 'work', 'at', 'all', 'and', 'he', 'built', 'his', 'house', 'out', 'of', 'straw', 'the', 'second', 'little', 'pig', 'worked', 'a', 'little', 'bit', 'harder', 'but', 'he', 'was', 'somewhat', 'lazy', 'too', 'and', 'he', 'built', 'his', 'house', 'out', 'of', 'sticks', 'then', 'they', 'sang', 'and', 'danced', 'and', 'played', 'together', 'the', 'rest', 'of', 'the', 'day', 'the', 'third', 'little', 'pig', 'worked', 'hard', 'all', 'day', 'and', 'built', 'his', 'house', 'with', 'bricks', 'it', 'was', 'a', 'sturdy', 'house', 'complete', 'with', 'a', 'fine', 'fireplace', 'and', 'chimney', 'it', 'looked', 'like', 'it', 'could', 'withstand', 'the', 'strongest', 'winds']\n"
          ]
        }
      ]
    },
    {
      "cell_type": "markdown",
      "source": [
        "##Removal of stop *words*"
      ],
      "metadata": {
        "id": "lhhSGs3v1Qb8"
      }
    },
    {
      "cell_type": "code",
      "source": [
        "from nltk.corpus import stopwords\n",
        "\n",
        "#List of stopwords\n",
        "stopwords = stopwords.words(\"english\")\n",
        "for i in stopwords:\n",
        "  print(i)"
      ],
      "metadata": {
        "id": "5ZCUIowC1S7v",
        "colab": {
          "base_uri": "https://localhost:8080/"
        },
        "outputId": "3393008d-377a-4e92-8776-14eed682a364"
      },
      "execution_count": null,
      "outputs": [
        {
          "output_type": "stream",
          "name": "stdout",
          "text": [
            "i\n",
            "me\n",
            "my\n",
            "myself\n",
            "we\n",
            "our\n",
            "ours\n",
            "ourselves\n",
            "you\n",
            "you're\n",
            "you've\n",
            "you'll\n",
            "you'd\n",
            "your\n",
            "yours\n",
            "yourself\n",
            "yourselves\n",
            "he\n",
            "him\n",
            "his\n",
            "himself\n",
            "she\n",
            "she's\n",
            "her\n",
            "hers\n",
            "herself\n",
            "it\n",
            "it's\n",
            "its\n",
            "itself\n",
            "they\n",
            "them\n",
            "their\n",
            "theirs\n",
            "themselves\n",
            "what\n",
            "which\n",
            "who\n",
            "whom\n",
            "this\n",
            "that\n",
            "that'll\n",
            "these\n",
            "those\n",
            "am\n",
            "is\n",
            "are\n",
            "was\n",
            "were\n",
            "be\n",
            "been\n",
            "being\n",
            "have\n",
            "has\n",
            "had\n",
            "having\n",
            "do\n",
            "does\n",
            "did\n",
            "doing\n",
            "a\n",
            "an\n",
            "the\n",
            "and\n",
            "but\n",
            "if\n",
            "or\n",
            "because\n",
            "as\n",
            "until\n",
            "while\n",
            "of\n",
            "at\n",
            "by\n",
            "for\n",
            "with\n",
            "about\n",
            "against\n",
            "between\n",
            "into\n",
            "through\n",
            "during\n",
            "before\n",
            "after\n",
            "above\n",
            "below\n",
            "to\n",
            "from\n",
            "up\n",
            "down\n",
            "in\n",
            "out\n",
            "on\n",
            "off\n",
            "over\n",
            "under\n",
            "again\n",
            "further\n",
            "then\n",
            "once\n",
            "here\n",
            "there\n",
            "when\n",
            "where\n",
            "why\n",
            "how\n",
            "all\n",
            "any\n",
            "both\n",
            "each\n",
            "few\n",
            "more\n",
            "most\n",
            "other\n",
            "some\n",
            "such\n",
            "no\n",
            "nor\n",
            "not\n",
            "only\n",
            "own\n",
            "same\n",
            "so\n",
            "than\n",
            "too\n",
            "very\n",
            "s\n",
            "t\n",
            "can\n",
            "will\n",
            "just\n",
            "don\n",
            "don't\n",
            "should\n",
            "should've\n",
            "now\n",
            "d\n",
            "ll\n",
            "m\n",
            "o\n",
            "re\n",
            "ve\n",
            "y\n",
            "ain\n",
            "aren\n",
            "aren't\n",
            "couldn\n",
            "couldn't\n",
            "didn\n",
            "didn't\n",
            "doesn\n",
            "doesn't\n",
            "hadn\n",
            "hadn't\n",
            "hasn\n",
            "hasn't\n",
            "haven\n",
            "haven't\n",
            "isn\n",
            "isn't\n",
            "ma\n",
            "mightn\n",
            "mightn't\n",
            "mustn\n",
            "mustn't\n",
            "needn\n",
            "needn't\n",
            "shan\n",
            "shan't\n",
            "shouldn\n",
            "shouldn't\n",
            "wasn\n",
            "wasn't\n",
            "weren\n",
            "weren't\n",
            "won\n",
            "won't\n",
            "wouldn\n",
            "wouldn't\n"
          ]
        }
      ]
    },
    {
      "cell_type": "code",
      "source": [
        "#Empty list to store clean words :\n",
        "clean_words = []\n",
        "\n",
        "for w in words_no_punc:\n",
        "    if w not in stopwords:\n",
        "        clean_words.append(w)\n",
        "\n",
        "print(clean_words)\n",
        "print(\"\\n\")\n",
        "print(len(clean_words))"
      ],
      "metadata": {
        "id": "G-CelBlV1bqK",
        "colab": {
          "base_uri": "https://localhost:8080/"
        },
        "outputId": "4dc18bd7-f2e7-436d-fe7f-eb4b0b61b8c1"
      },
      "execution_count": null,
      "outputs": [
        {
          "output_type": "stream",
          "name": "stdout",
          "text": [
            "['upon', 'time', 'old', 'mother', 'pig', 'three', 'little', 'pigs', 'enough', 'food', 'feed', 'old', 'enough', 'sent', 'world', 'seek', 'fortunes', 'first', 'little', 'pig', 'lazy', 'want', 'work', 'built', 'house', 'straw', 'second', 'little', 'pig', 'worked', 'little', 'bit', 'harder', 'somewhat', 'lazy', 'built', 'house', 'sticks', 'sang', 'danced', 'played', 'together', 'rest', 'day', 'third', 'little', 'pig', 'worked', 'hard', 'day', 'built', 'house', 'bricks', 'sturdy', 'house', 'complete', 'fine', 'fireplace', 'chimney', 'looked', 'like', 'could', 'withstand', 'strongest', 'winds']\n",
            "\n",
            "\n",
            "65\n"
          ]
        }
      ]
    },
    {
      "cell_type": "markdown",
      "source": [
        "##Stemming"
      ],
      "metadata": {
        "id": "rneI40Xp2Eke"
      }
    },
    {
      "cell_type": "code",
      "source": [
        "#Import stemming library :\n",
        "from nltk.stem import PorterStemmer\n",
        "\n",
        "porter = PorterStemmer()\n",
        "\n",
        "#Word-list for stemming :\n",
        "word_list = [\"Study\",\"Studying\",\"Studies\",\"Studied\"]\n",
        "\n",
        "for w in word_list:\n",
        "    print(porter.stem(w))"
      ],
      "metadata": {
        "id": "948y5cSE2EAh",
        "colab": {
          "base_uri": "https://localhost:8080/"
        },
        "outputId": "59ff5fc4-b6a9-4da9-c094-4a71ed94e42f"
      },
      "execution_count": null,
      "outputs": [
        {
          "output_type": "stream",
          "name": "stdout",
          "text": [
            "studi\n",
            "studi\n",
            "studi\n",
            "studi\n"
          ]
        }
      ]
    },
    {
      "cell_type": "code",
      "source": [
        "#Import stemming library :\n",
        "from nltk.stem import PorterStemmer\n",
        "\n",
        "porter = PorterStemmer()\n",
        "\n",
        "#Word-list for stemming :\n",
        "word_list = [\"studies\",\"leaves\",\"decreases\",\"plays\"]\n",
        "\n",
        "for w in word_list:\n",
        "    print(porter.stem(w))"
      ],
      "metadata": {
        "id": "VEDxSBda2J8P",
        "colab": {
          "base_uri": "https://localhost:8080/"
        },
        "outputId": "701ed635-9e90-433c-93b0-08ddbe575bc8"
      },
      "execution_count": null,
      "outputs": [
        {
          "output_type": "stream",
          "name": "stdout",
          "text": [
            "studi\n",
            "leav\n",
            "decreas\n",
            "play\n"
          ]
        }
      ]
    },
    {
      "cell_type": "markdown",
      "source": [
        "##Lemmatization"
      ],
      "metadata": {
        "id": "7ukH7Mku2VyY"
      }
    },
    {
      "cell_type": "code",
      "source": [
        "from nltk import WordNetLemmatizer\n",
        "\n",
        "lemma = WordNetLemmatizer()\n",
        "word_list = [\"Study\",\"Studying\",\"Studies\",\"Studied\"]\n",
        "\n",
        "for w in word_list:\n",
        "    print(lemma.lemmatize(w ,pos=\"v\"))"
      ],
      "metadata": {
        "id": "O5BhXf0J2iDL",
        "colab": {
          "base_uri": "https://localhost:8080/"
        },
        "outputId": "17251359-568d-4374-afb8-4119ff1d2064"
      },
      "execution_count": null,
      "outputs": [
        {
          "output_type": "stream",
          "name": "stdout",
          "text": [
            "Study\n",
            "Studying\n",
            "Studies\n",
            "Studied\n"
          ]
        }
      ]
    },
    {
      "cell_type": "code",
      "source": [
        "from nltk import WordNetLemmatizer\n",
        "\n",
        "lemma = WordNetLemmatizer()\n",
        "word_list = [\"am\",\"is\",\"are\",\"was\",\"were\"]\n",
        "\n",
        "for w in word_list:\n",
        "    print(lemma.lemmatize(w ,pos=\"v\"))"
      ],
      "metadata": {
        "id": "_JLmXi1K2l4O",
        "colab": {
          "base_uri": "https://localhost:8080/"
        },
        "outputId": "37ec1898-db4e-4193-e661-beda8e060008"
      },
      "execution_count": null,
      "outputs": [
        {
          "output_type": "stream",
          "name": "stdout",
          "text": [
            "be\n",
            "be\n",
            "be\n",
            "be\n",
            "be\n"
          ]
        }
      ]
    },
    {
      "cell_type": "markdown",
      "source": [
        "##POS Tagging"
      ],
      "metadata": {
        "id": "xv8UaWun3Cja"
      }
    },
    {
      "cell_type": "code",
      "source": [
        "sentence = \"A very beautiful young lady is walking on the beach\"\n",
        "\n",
        "#Tokenizing words :\n",
        "tokenized_words = word_tokenize(sentence)\n",
        "\n",
        "for words in tokenized_words:\n",
        "    tagged_words = nltk.pos_tag(tokenized_words)\n",
        "\n",
        "tagged_words"
      ],
      "metadata": {
        "id": "doJZmcLJ3A5W",
        "colab": {
          "base_uri": "https://localhost:8080/"
        },
        "outputId": "df2ee09b-3774-4dee-9e8b-e9fa61ca672a"
      },
      "execution_count": null,
      "outputs": [
        {
          "output_type": "execute_result",
          "data": {
            "text/plain": [
              "[('A', 'DT'),\n",
              " ('very', 'RB'),\n",
              " ('beautiful', 'JJ'),\n",
              " ('young', 'JJ'),\n",
              " ('lady', 'NN'),\n",
              " ('is', 'VBZ'),\n",
              " ('walking', 'VBG'),\n",
              " ('on', 'IN'),\n",
              " ('the', 'DT'),\n",
              " ('beach', 'NN')]"
            ]
          },
          "metadata": {},
          "execution_count": 12
        }
      ]
    },
    {
      "cell_type": "markdown",
      "source": [
        "#Word Cloud: Application of frequency distribution"
      ],
      "metadata": {
        "id": "a_KdtAda1mWP"
      }
    },
    {
      "cell_type": "code",
      "source": [
        "#Library to form wordcloud :\n",
        "from wordcloud import WordCloud\n",
        "\n",
        "#Library to plot the wordcloud :\n",
        "import matplotlib.pyplot as plt\n",
        "\n",
        "#Generating the wordcloud :\n",
        "wordcloud = WordCloud().generate(text)\n",
        "\n",
        "#Plot the wordcloud :\n",
        "plt.figure(figsize = (8,8))\n",
        "plt.imshow(wordcloud)\n",
        "\n",
        "#To remove the axis value :\n",
        "plt.axis(\"off\")\n",
        "plt.show()"
      ],
      "metadata": {
        "id": "aENwWyaT1yzk",
        "colab": {
          "base_uri": "https://localhost:8080/",
          "height": 346
        },
        "outputId": "eca3a50b-40ee-4a4b-f6da-69e86c71a22a"
      },
      "execution_count": null,
      "outputs": [
        {
          "output_type": "display_data",
          "data": {
            "text/plain": [
              "<Figure size 800x800 with 1 Axes>"
            ],
            "image/png": "[encoded data removed]"
          },
          "metadata": {}
        }
      ]
    },
    {
      "cell_type": "markdown",
      "source": [
        "#Word Embeddings"
      ],
      "metadata": {
        "id": "xgLNp_yU7Tky"
      }
    },
    {
      "cell_type": "markdown",
      "source": [
        "##Bag of Words"
      ],
      "metadata": {
        "id": "Q9ifi8zv7WJp"
      }
    },
    {
      "cell_type": "code",
      "source": [
        "from sklearn.feature_extraction.text import CountVectorizer\n",
        "\n",
        "corpus = [\n",
        "'All my cats in a row',\n",
        "'When my cat sits down, she looks like a Furby toy!',\n",
        "'The cat from outer space',\n",
        "'Sunshine loves to sit like this for some reason.'\n",
        "]\n",
        "\n",
        "vectorizer = CountVectorizer()\n",
        "print('BoW matrix:')\n",
        "print( vectorizer.fit_transform(corpus).todense() )\n",
        "print( vectorizer.vocabulary_ )"
      ],
      "metadata": {
        "id": "VBnkWEyN7l0d",
        "colab": {
          "base_uri": "https://localhost:8080/"
        },
        "outputId": "a872fe42-b12b-4849-f1b1-2e878639da14"
      },
      "execution_count": null,
      "outputs": [
        {
          "output_type": "stream",
          "name": "stdout",
          "text": [
            "BoW matrix:\n",
            "[[1 0 1 0 0 0 0 1 0 0 0 1 0 0 1 0 0 0 0 0 0 0 0 0 0 0]\n",
            " [0 1 0 1 0 0 1 0 1 1 0 1 0 0 0 1 0 1 0 0 0 0 0 0 1 1]\n",
            " [0 1 0 0 0 1 0 0 0 0 0 0 1 0 0 0 0 0 0 1 0 1 0 0 0 0]\n",
            " [0 0 0 0 1 0 0 0 1 0 1 0 0 1 0 0 1 0 1 0 1 0 1 1 0 0]]\n",
            "{'all': 0, 'my': 11, 'cats': 2, 'in': 7, 'row': 14, 'when': 25, 'cat': 1, 'sits': 17, 'down': 3, 'she': 15, 'looks': 9, 'like': 8, 'furby': 6, 'toy': 24, 'the': 21, 'from': 5, 'outer': 12, 'space': 19, 'sunshine': 20, 'loves': 10, 'to': 23, 'sit': 16, 'this': 22, 'for': 4, 'some': 18, 'reason': 13}\n"
          ]
        }
      ]
    },
    {
      "cell_type": "markdown",
      "source": [
        "##TF_IDF"
      ],
      "metadata": {
        "id": "q1qaFJeu99Q8"
      }
    },
    {
      "cell_type": "code",
      "source": [
        "from sklearn.feature_extraction.text import TfidfVectorizer\n",
        "\n",
        "# Let us use corpus from prev implementation\n",
        "\n",
        "# Create an instance of the TfidfVectorizer class\n",
        "vectorizer = TfidfVectorizer()\n",
        "\n",
        "# Pass the corpus to the fit_transform method\n",
        "X = vectorizer.fit_transform(corpus)"
      ],
      "metadata": {
        "id": "GQgjHkos-Noe"
      },
      "execution_count": null,
      "outputs": []
    },
    {
      "cell_type": "code",
      "source": [
        "# Inspect feature names and TF-IDF values\n",
        "print(vectorizer.get_feature_names_out())\n",
        "\n",
        "# Convert the variable to an array\n",
        "X.toarray()"
      ],
      "metadata": {
        "colab": {
          "base_uri": "https://localhost:8080/"
        },
        "id": "1AAukFxDXXGi",
        "outputId": "61c92b16-9fbe-44e0-f722-e2534b3deac6"
      },
      "execution_count": null,
      "outputs": [
        {
          "output_type": "stream",
          "name": "stdout",
          "text": [
            "['all' 'cat' 'cats' 'down' 'for' 'from' 'furby' 'in' 'like' 'looks'\n",
            " 'loves' 'my' 'outer' 'reason' 'row' 'she' 'sit' 'sits' 'some' 'space'\n",
            " 'sunshine' 'the' 'this' 'to' 'toy' 'when']\n",
            "[[0.46516193 0.         0.46516193 0.         0.         0.\n",
            "  0.         0.46516193 0.         0.         0.         0.36673901\n",
            "  0.         0.         0.46516193 0.         0.         0.\n",
            "  0.         0.         0.         0.         0.         0.\n",
            "  0.         0.        ]\n",
            " [0.         0.26480063 0.         0.33586602 0.         0.\n",
            "  0.33586602 0.         0.26480063 0.33586602 0.         0.26480063\n",
            "  0.         0.         0.         0.33586602 0.         0.33586602\n",
            "  0.         0.         0.         0.         0.         0.\n",
            "  0.33586602 0.33586602]\n",
            " [0.         0.36673901 0.         0.         0.         0.46516193\n",
            "  0.         0.         0.         0.         0.         0.\n",
            "  0.46516193 0.         0.         0.         0.         0.\n",
            "  0.         0.46516193 0.         0.46516193 0.         0.\n",
            "  0.         0.        ]\n",
            " [0.         0.         0.         0.         0.34056989 0.\n",
            "  0.         0.         0.26850921 0.         0.34056989 0.\n",
            "  0.         0.34056989 0.         0.         0.34056989 0.\n",
            "  0.34056989 0.         0.34056989 0.         0.34056989 0.34056989\n",
            "  0.         0.        ]]\n"
          ]
        },
        {
          "output_type": "execute_result",
          "data": {
            "text/plain": [
              "array([[0.46516193, 0.        , 0.46516193, 0.        , 0.        ,\n",
              "        0.        , 0.        , 0.46516193, 0.        , 0.        ,\n",
              "        0.        , 0.36673901, 0.        , 0.        , 0.46516193,\n",
              "        0.        , 0.        , 0.        , 0.        , 0.        ,\n",
              "        0.        , 0.        , 0.        , 0.        , 0.        ,\n",
              "        0.        ],\n",
              "       [0.        , 0.26480063, 0.        , 0.33586602, 0.        ,\n",
              "        0.        , 0.33586602, 0.        , 0.26480063, 0.33586602,\n",
              "        0.        , 0.26480063, 0.        , 0.        , 0.        ,\n",
              "        0.33586602, 0.        , 0.33586602, 0.        , 0.        ,\n",
              "        0.        , 0.        , 0.        , 0.        , 0.33586602,\n",
              "        0.33586602],\n",
              "       [0.        , 0.36673901, 0.        , 0.        , 0.        ,\n",
              "        0.46516193, 0.        , 0.        , 0.        , 0.        ,\n",
              "        0.        , 0.        , 0.46516193, 0.        , 0.        ,\n",
              "        0.        , 0.        , 0.        , 0.        , 0.46516193,\n",
              "        0.        , 0.46516193, 0.        , 0.        , 0.        ,\n",
              "        0.        ],\n",
              "       [0.        , 0.        , 0.        , 0.        , 0.34056989,\n",
              "        0.        , 0.        , 0.        , 0.26850921, 0.        ,\n",
              "        0.34056989, 0.        , 0.        , 0.34056989, 0.        ,\n",
              "        0.        , 0.34056989, 0.        , 0.34056989, 0.        ,\n",
              "        0.34056989, 0.        , 0.34056989, 0.34056989, 0.        ,\n",
              "        0.        ]])"
            ]
          },
          "metadata": {},
          "execution_count": 22
        }
      ]
    },
    {
      "cell_type": "markdown",
      "source": [
        "##Word2Vec"
      ],
      "metadata": {
        "id": "QNSwOXVSXywX"
      }
    },
    {
      "cell_type": "code",
      "source": [
        "import string\n",
        "import nltk\n",
        "from nltk.corpus import brown\n",
        "from gensim.models import Word2Vec\n",
        "from sklearn.decomposition import PCA\n",
        "from matplotlib import pyplot\n",
        "\n",
        "# Download the Brown corpus if not already downloaded\n",
        "nltk.download(\"brown\")\n",
        "\n",
        "# Preprocess the Brown corpus\n",
        "document = brown.sents()\n",
        "data = []\n",
        "for sent in document:\n",
        "    new_sent = []\n",
        "    for word in sent:\n",
        "        new_word = word.lower()\n",
        "        if new_word[0] not in string.punctuation:\n",
        "            new_sent.append(new_word)\n",
        "    if len(new_sent) > 0:\n",
        "        data.append(new_sent)\n",
        "\n",
        "# Train the Word2Vec model\n",
        "model = Word2Vec(\n",
        "    sentences=data,\n",
        "    vector_size=50,\n",
        "    window=10,\n",
        "    epochs=20,\n",
        ")\n",
        "\n",
        "# Vector for the word \"love\"\n",
        "vector_love = model.wv[\"love\"]\n",
        "print(\"Vector for love:\")\n",
        "print(vector_love)\n",
        "print()\n",
        "\n",
        "# Finding most similar words to \"car\"\n",
        "similar_to_car = model.wv.most_similar(\"car\", topn=3)\n",
        "print(\"3 words similar to car:\")\n",
        "for word in similar_to_car:\n",
        "    print(word)\n",
        "print()\n",
        "\n",
        "# Visualizing data with PCA\n",
        "words = [\"france\", \"germany\", \"india\", \"truck\", \"boat\", \"road\", \"teacher\", \"student\"]\n",
        "X = model.wv[words]\n",
        "pca = PCA(n_components=2)\n",
        "result = pca.fit_transform(X)\n",
        "\n",
        "# Plot the PCA result\n",
        "pyplot.scatter(result[:, 0], result[:, 1])\n",
        "for i, word in enumerate(words):\n",
        "    pyplot.annotate(word, xy=(result[i, 0], result[i, 1]))\n",
        "pyplot.show()\n"
      ],
      "metadata": {
        "colab": {
          "base_uri": "https://localhost:8080/",
          "height": 753
        },
        "id": "I4x-KjnU8WdF",
        "outputId": "d0655ba4-bed9-4b0b-b76e-fa1c1675a19e"
      },
      "execution_count": null,
      "outputs": [
        {
          "output_type": "stream",
          "name": "stderr",
          "text": [
            "[nltk_data] Downloading package brown to /root/nltk_data...\n",
            "[nltk_data]   Unzipping corpora/brown.zip.\n"
          ]
        },
        {
          "output_type": "stream",
          "name": "stdout",
          "text": [
            "Vector for love:\n",
            "[ 1.5006338  -0.95530725 -2.230181    0.6126625  -0.17528078  0.27746022\n",
            "  1.0572264  -1.396237   -1.4490197  -2.930345   -0.40032557 -0.05464125\n",
            "  0.5503626  -3.9081671  -2.0867455  -3.1804066   0.54820085 -0.9416632\n",
            "  1.798017   -2.1071923  -0.69619465 -0.04099064 -0.08268507  2.5585003\n",
            " -2.0846014   1.2848085  -0.9072066   0.90498376 -0.7159474   0.8477137\n",
            "  1.3214718   2.4837456   0.12321644  0.944471   -1.5972158   0.8103631\n",
            "  1.5085125   0.15212369 -0.6520911   1.625485   -1.000862   -3.0058587\n",
            " -1.3566939   3.0059838   1.2629701  -2.4711795   1.8336719  -2.3299675\n",
            " -1.7308133  -0.26206943]\n",
            "\n",
            "3 words similar to car:\n",
            "('boat', 0.7454317808151245)\n",
            "('truck', 0.7198639512062073)\n",
            "('road', 0.7079074382781982)\n",
            "\n"
          ]
        },
        {
          "output_type": "display_data",
          "data": {
            "text/plain": [
              "<Figure size 640x480 with 1 Axes>"
            ],
            "image/png": "[encoded data removed]"
          },
          "metadata": {}
        }
      ]
    },
    {
      "cell_type": "code",
      "source": [
        "import gensim\n",
        "import gensim.downloader\n",
        "\n",
        "google_news_vectors = gensim.downloader.load('word2vec-google-news-300')\n",
        "\n",
        "# Finding Capital of Britain given Capital of France: (Paris - France) + Britain =\n",
        "print(\"Finding Capital of Britain: (Paris - France) + Britain\")\n",
        "capital = google_news_vectors.most_similar([\"Paris\", \"Britain\"], [\"France\"], topn=1)\n",
        "print(capital)\n",
        "print()\n",
        "\n",
        "# Finding Capital of India given Capital of Germany: (Berlin - Germany) + India =\n",
        "print(\"Finding Capital of India: (Berlin - Germany) + India\")\n",
        "capital = google_news_vectors.most_similar([\"Berlin\", \"India\"], [\"Germany\"], topn=1)\n",
        "print(capital)\n",
        "print()\n",
        "\n",
        "# Finding words similar to BMW\n",
        "print(\"5 similar words to BMW:\")\n",
        "words = google_news_vectors.most_similar(\"BMW\", topn=5)\n",
        "for word in words:\n",
        "  print(word)\n",
        "print()\n",
        "\n",
        "# Finding words similar to Beautiful\n",
        "print(\"3 similar words to beautiful:\")\n",
        "words = google_news_vectors.most_similar(\"beautiful\", topn=3)\n",
        "for word in words:\n",
        "  print(word)\n",
        "print()\n",
        "\n",
        "# Finding cosine similarity between fight and battle\n",
        "cosine = google_news_vectors.similarity(\"fight\", \"battle\")\n",
        "print(\"Cosine similarity between fight and battle:\", cosine)\n",
        "print()\n",
        "\n",
        "# Finding cosine similarity between fight and love\n",
        "cosine = google_news_vectors.similarity(\"fight\", \"love\")\n",
        "print(\"Cosine similarity between fight and love:\", cosine)"
      ],
      "metadata": {
        "colab": {
          "base_uri": "https://localhost:8080/"
        },
        "id": "hn2oUDc6Yr8q",
        "outputId": "9a26cd38-49ec-4a99-df71-a0a3399e9f15"
      },
      "execution_count": null,
      "outputs": [
        {
          "output_type": "stream",
          "name": "stdout",
          "text": [
            "[==================================================] 100.0% 1662.8/1662.8MB downloaded\n",
            "Finding Capital of Britain: (Paris - France) + Britain\n",
            "[('London', 0.7541897892951965)]\n",
            "\n",
            "Finding Capital of India: (Berlin - Germany) + India\n",
            "[('London', 0.6717561483383179)]\n",
            "\n",
            "5 similar words to BMW:\n",
            "('Audi', 0.7932199835777283)\n",
            "('Mercedes_Benz', 0.7683466672897339)\n",
            "('Porsche', 0.7272197604179382)\n",
            "('Mercedes', 0.7078384160995483)\n",
            "('Volkswagen', 0.6959410905838013)\n",
            "\n",
            "3 similar words to beautiful:\n",
            "('gorgeous', 0.8353005051612854)\n",
            "('lovely', 0.8106936812400818)\n",
            "('stunningly_beautiful', 0.7329413294792175)\n",
            "\n",
            "Cosine similarity between fight and battle: 0.7021284\n",
            "\n",
            "Cosine similarity between fight and love: 0.13506128\n"
          ]
        }
      ]
    },
    {
      "cell_type": "code",
      "source": [
        "# Finding Capital of Britain given Capital of France: (Paris - France) + Britain =\n",
        "print(\"Finding Capital of Britain: (Paris - France) + Japan\")\n",
        "capital = google_news_vectors.most_similar([\"Paris\", \"Japan\"], [\"France\"], topn=1)\n",
        "print(capital)\n",
        "print()\n",
        "\n",
        "# Finding Capital of India given Capital of Germany: (Berlin - Germany) + India =\n",
        "print(\"Finding Capital of India: (Berlin - Germany) + Italy\")\n",
        "capital = google_news_vectors.most_similar([\"Berlin\", \"Italy\"], [\"Germany\"], topn=1)\n",
        "print(capital)\n",
        "print()"
      ],
      "metadata": {
        "colab": {
          "base_uri": "https://localhost:8080/"
        },
        "id": "soFYemtjuOrD",
        "outputId": "8fe05173-28d6-4958-ac38-cb2ac724a6c7"
      },
      "execution_count": null,
      "outputs": [
        {
          "output_type": "stream",
          "name": "stdout",
          "text": [
            "Finding Capital of Britain: (Paris - France) + Japan\n",
            "[('Tokyo', 0.8142861723899841)]\n",
            "\n",
            "Finding Capital of India: (Berlin - Germany) + Italy\n",
            "[('Rome', 0.7297912836074829)]\n",
            "\n"
          ]
        }
      ]
    },
    {
      "cell_type": "code",
      "source": [
        "# Finding words similar to BMW\n",
        "print(\"5 similar words to BMW:\")\n",
        "words = google_news_vectors.most_similar(\"app\", topn=5)\n",
        "for word in words:\n",
        "  print(word)\n",
        "print()"
      ],
      "metadata": {
        "colab": {
          "base_uri": "https://localhost:8080/"
        },
        "id": "TZVJn5b5wk9l",
        "outputId": "37eb0b6c-3ade-4036-b122-1c44831e4525"
      },
      "execution_count": null,
      "outputs": [
        {
          "output_type": "stream",
          "name": "stdout",
          "text": [
            "5 similar words to BMW:\n",
            "('iPhone_app', 0.8521890640258789)\n",
            "('apps', 0.8170387744903564)\n",
            "('iOS_app', 0.752600371837616)\n",
            "('App', 0.7278793454170227)\n",
            "('iPad_app', 0.7185643315315247)\n",
            "\n"
          ]
        }
      ]
    },
    {
      "cell_type": "code",
      "source": [],
      "metadata": {
        "id": "Sk8wF4FExX9R"
      },
      "execution_count": null,
      "outputs": []
    }
  ]
}