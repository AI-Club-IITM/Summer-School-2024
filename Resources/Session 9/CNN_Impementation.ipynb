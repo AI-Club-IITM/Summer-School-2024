{
  "cells": [
    {
      "cell_type": "code",
      "execution_count": null,
      "metadata": {
        "id": "RJkwP5aROHw1"
      },
      "outputs": [],
      "source": [
        "import torch\n",
        "import torchvision\n",
        "import torchvision.transforms as transforms\n",
        "import matplotlib.pyplot as plt\n",
        "import numpy as np\n",
        "import torch.nn as nn\n",
        "import torch.nn.functional as F\n",
        "from PIL import Image"
      ]
    },
    {
      "cell_type": "code",
      "execution_count": null,
      "metadata": {
        "colab": {
          "base_uri": "https://localhost:8080/"
        },
        "id": "yDtTYauHOPS0",
        "outputId": "e4ebe98a-3e21-4c26-ff75-a59d121e8355"
      },
      "outputs": [
        {
          "output_type": "stream",
          "name": "stdout",
          "text": [
            "Downloading https://www.cs.toronto.edu/~kriz/cifar-10-python.tar.gz to ./data/cifar-10-python.tar.gz\n"
          ]
        },
        {
          "output_type": "stream",
          "name": "stderr",
          "text": [
            "100%|██████████| 170498071/170498071 [00:05<00:00, 29652203.60it/s]\n"
          ]
        },
        {
          "output_type": "stream",
          "name": "stdout",
          "text": [
            "Extracting ./data/cifar-10-python.tar.gz to ./data\n"
          ]
        }
      ],
      "source": [
        "transform = transforms.Compose(\n",
        "    [transforms.ToTensor(),\n",
        "     transforms.Normalize((0.5, 0.5, 0.5), (0.5, 0.5, 0.5))])\n",
        "\n",
        "trainset = torchvision.datasets.CIFAR10(root='./data', train=True,\n",
        "                                        download=True, transform=transform)"
      ]
    },
    {
      "cell_type": "code",
      "execution_count": null,
      "metadata": {
        "colab": {
          "base_uri": "https://localhost:8080/"
        },
        "id": "sKYfC96CSAYl",
        "outputId": "d6935f38-5cf6-4a48-c5fd-6c9b4e4a2314"
      },
      "outputs": [
        {
          "output_type": "stream",
          "name": "stdout",
          "text": [
            "tensor([[[-0.5373, -0.6627, -0.6078,  ...,  0.2392,  0.1922,  0.1608],\n",
            "         [-0.8745, -1.0000, -0.8588,  ..., -0.0353, -0.0667, -0.0431],\n",
            "         [-0.8039, -0.8745, -0.6157,  ..., -0.0745, -0.0588, -0.1451],\n",
            "         ...,\n",
            "         [ 0.6314,  0.5765,  0.5529,  ...,  0.2549, -0.5608, -0.5843],\n",
            "         [ 0.4118,  0.3569,  0.4588,  ...,  0.4431, -0.2392, -0.3490],\n",
            "         [ 0.3882,  0.3176,  0.4039,  ...,  0.6941,  0.1843, -0.0353]],\n",
            "\n",
            "        [[-0.5137, -0.6392, -0.6235,  ...,  0.0353, -0.0196, -0.0275],\n",
            "         [-0.8431, -1.0000, -0.9373,  ..., -0.3098, -0.3490, -0.3176],\n",
            "         [-0.8118, -0.9451, -0.7882,  ..., -0.3412, -0.3412, -0.4275],\n",
            "         ...,\n",
            "         [ 0.3333,  0.2000,  0.2627,  ...,  0.0431, -0.7569, -0.7333],\n",
            "         [ 0.0902, -0.0353,  0.1294,  ...,  0.1608, -0.5137, -0.5843],\n",
            "         [ 0.1294,  0.0118,  0.1137,  ...,  0.4431, -0.0745, -0.2784]],\n",
            "\n",
            "        [[-0.5059, -0.6471, -0.6627,  ..., -0.1529, -0.2000, -0.1922],\n",
            "         [-0.8431, -1.0000, -1.0000,  ..., -0.5686, -0.6078, -0.5529],\n",
            "         [-0.8353, -1.0000, -0.9373,  ..., -0.6078, -0.6078, -0.6706],\n",
            "         ...,\n",
            "         [-0.2471, -0.7333, -0.7961,  ..., -0.4510, -0.9451, -0.8431],\n",
            "         [-0.2471, -0.6706, -0.7647,  ..., -0.2627, -0.7333, -0.7333],\n",
            "         [-0.0902, -0.2627, -0.3176,  ...,  0.0980, -0.3412, -0.4353]]])\n"
          ]
        }
      ],
      "source": [
        "image, _ = trainset[0]\n",
        "print (image)"
      ]
    },
    {
      "cell_type": "code",
      "execution_count": null,
      "metadata": {
        "id": "96jlOdYjSIEA"
      },
      "outputs": [],
      "source": [
        "batch_size = 4\n",
        "\n",
        "trainloader = torch.utils.data.DataLoader(trainset, batch_size=batch_size,\n",
        "                                          shuffle=True, num_workers=2)"
      ]
    },
    {
      "cell_type": "code",
      "execution_count": null,
      "metadata": {
        "colab": {
          "base_uri": "https://localhost:8080/"
        },
        "id": "d3ppTIO4Wi1_",
        "outputId": "fe1199b1-81e6-4af4-acb7-3d53f5866455"
      },
      "outputs": [
        {
          "output_type": "stream",
          "name": "stdout",
          "text": [
            "torch.Size([4, 3, 32, 32])\n",
            "tensor([7, 8, 1, 8])\n"
          ]
        }
      ],
      "source": [
        "for images, labels in trainloader:\n",
        "  print (images.shape)\n",
        "  print (labels)\n",
        "  break"
      ]
    },
    {
      "cell_type": "code",
      "execution_count": null,
      "metadata": {
        "colab": {
          "base_uri": "https://localhost:8080/"
        },
        "id": "9fzu512UWmaU",
        "outputId": "c0c3aedf-13dd-4d8d-81bb-6a7d019fe532"
      },
      "outputs": [
        {
          "output_type": "stream",
          "name": "stdout",
          "text": [
            "Files already downloaded and verified\n"
          ]
        }
      ],
      "source": [
        "testset = torchvision.datasets.CIFAR10(root='./data', train=False,\n",
        "                                       download=True, transform=transform)\n",
        "testloader = torch.utils.data.DataLoader(testset, batch_size=batch_size,\n",
        "                                         shuffle=False, num_workers=2)\n",
        "\n",
        "classes = ('plane', 'car', 'bird', 'cat',\n",
        "           'deer', 'dog', 'frog', 'horse', 'ship', 'truck')"
      ]
    },
    {
      "cell_type": "code",
      "execution_count": null,
      "metadata": {
        "colab": {
          "base_uri": "https://localhost:8080/",
          "height": 266
        },
        "id": "Ic8D2I7mY_po",
        "outputId": "c3b0e81c-aebc-4f2b-cf6f-fd7f9ed21d49"
      },
      "outputs": [
        {
          "output_type": "display_data",
          "data": {
            "text/plain": [
              "<Figure size 640x480 with 1 Axes>"
            ],
            "image/png": "[encoded data removed]"
          },
          "metadata": {}
        },
        {
          "output_type": "stream",
          "name": "stdout",
          "text": [
            "frog\n",
            "car\n",
            "plane\n",
            "cat\n"
          ]
        }
      ],
      "source": [
        "import matplotlib.pyplot as plt\n",
        "import numpy as np\n",
        "\n",
        "# functions to show an image\n",
        "\n",
        "\n",
        "def imshow(img):\n",
        "    img = img / 2 + 0.5     # unnormalize\n",
        "    npimg = img.numpy()\n",
        "    plt.imshow(np.transpose(npimg, (1, 2, 0)))\n",
        "    plt.show()\n",
        "\n",
        "\n",
        "# get some random training images\n",
        "dataiter = iter(trainloader)\n",
        "images, labels = next(dataiter)\n",
        "\n",
        "# show images\n",
        "imshow(torchvision.utils.make_grid(images))\n",
        "# print labels\n",
        "print(classes[labels[0]])\n",
        "print (classes[labels[1]])\n",
        "print (classes[labels[2]])\n",
        "print (classes[labels[3]])"
      ]
    },
    {
      "cell_type": "code",
      "execution_count": null,
      "metadata": {
        "colab": {
          "base_uri": "https://localhost:8080/"
        },
        "id": "eT__zh1qZjOi",
        "outputId": "16a2b4a8-69a7-4532-f99d-4a0f53603bab"
      },
      "outputs": [
        {
          "output_type": "stream",
          "name": "stdout",
          "text": [
            "Using device: cuda\n"
          ]
        }
      ],
      "source": [
        "class MyCNN(nn.Module):\n",
        "    def __init__(self, num_classes=1000):\n",
        "        super(MyCNN, self).__init__()\n",
        "\n",
        "        self.features = nn.Sequential(\n",
        "            # Block 1\n",
        "            nn.Conv2d(3, 64, kernel_size=3, padding=1),\n",
        "            nn.ReLU(inplace=True),\n",
        "\n",
        "\n",
        "            nn.MaxPool2d(kernel_size=2, stride=2),\n",
        "\n",
        "            # Block 2\n",
        "            nn.Conv2d(64, 128, kernel_size=3, padding=1),\n",
        "            nn.ReLU(inplace=True),\n",
        "\n",
        "\n",
        "            nn.MaxPool2d(kernel_size=2, stride=2),\n",
        "\n",
        "            # Block 3\n",
        "            nn.Conv2d(128, 256, kernel_size=3, padding=1),\n",
        "            nn.ReLU(inplace=True),\n",
        "\n",
        "\n",
        "            nn.MaxPool2d(kernel_size=2, stride=2),\n",
        "\n",
        "            # Block 4\n",
        "            nn.Conv2d(256, 512, kernel_size=3, padding=1),\n",
        "            nn.ReLU(inplace=True),\n",
        "\n",
        "            nn.MaxPool2d(kernel_size=2, stride=2),\n",
        "\n",
        "            # Block 5\n",
        "            nn.Conv2d(512, 512, kernel_size=3, padding=1),\n",
        "            nn.ReLU(inplace=True),\n",
        "\n",
        "            nn.MaxPool2d(kernel_size=2, stride=2)\n",
        "        )\n",
        "\n",
        "        self.classifier = nn.Sequential(\n",
        "            nn.Linear(512 , 128),\n",
        "\n",
        "            nn.Dropout(),\n",
        "            nn.Linear(128, 32),\n",
        "\n",
        "            nn.Dropout(),\n",
        "            nn.Linear(32, num_classes),\n",
        "        )\n",
        "\n",
        "    def forward(self, x):\n",
        "        x = self.features(x)\n",
        "        x = torch.flatten(x, 1)\n",
        "        x = self.classifier(x)\n",
        "        return x\n",
        "device = torch.device(\"cuda\" if torch.cuda.is_available() else \"cpu\")\n",
        "print(f\"Using device: {device}\")\n",
        "# Create the MyCNN model\n",
        "net = MyCNN(num_classes=10).to(device)"
      ]
    },
    {
      "cell_type": "code",
      "execution_count": null,
      "metadata": {
        "id": "tF4xMgF7zsT6"
      },
      "outputs": [],
      "source": [
        "import torch.optim as optim\n",
        "\n",
        "criterion = nn.CrossEntropyLoss()\n",
        "optimizer = optim.SGD(net.parameters(), lr=0.001, momentum=0.9)"
      ]
    },
    {
      "cell_type": "code",
      "execution_count": null,
      "metadata": {
        "id": "PcM3Q23Dz4Nr",
        "outputId": "09881dc3-655c-4ba4-b1c9-2819579f3840",
        "colab": {
          "base_uri": "https://localhost:8080/"
        }
      },
      "outputs": [
        {
          "output_type": "stream",
          "name": "stdout",
          "text": [
            "[1, 2000] loss: 2.303\n",
            "[1, 4000] loss: 2.210\n",
            "[1, 6000] loss: 1.980\n",
            "[1, 8000] loss: 1.809\n",
            "[1, 10000] loss: 1.709\n",
            "[1, 12000] loss: 1.591\n",
            "[2, 2000] loss: 1.485\n",
            "[2, 4000] loss: 1.413\n",
            "[2, 6000] loss: 1.354\n",
            "[2, 8000] loss: 1.321\n",
            "[2, 10000] loss: 1.272\n",
            "[2, 12000] loss: 1.221\n",
            "[3, 2000] loss: 1.123\n",
            "[3, 4000] loss: 1.105\n",
            "[3, 6000] loss: 1.083\n",
            "[3, 8000] loss: 1.051\n",
            "[3, 10000] loss: 1.008\n",
            "[3, 12000] loss: 0.997\n",
            "[4, 2000] loss: 0.882\n",
            "[4, 4000] loss: 0.871\n",
            "[4, 6000] loss: 0.905\n",
            "[4, 8000] loss: 0.852\n",
            "[4, 10000] loss: 0.881\n",
            "[4, 12000] loss: 0.833\n",
            "[5, 2000] loss: 0.735\n",
            "[5, 4000] loss: 0.711\n",
            "[5, 6000] loss: 0.724\n",
            "[5, 8000] loss: 0.720\n",
            "[5, 10000] loss: 0.728\n",
            "[5, 12000] loss: 0.715\n",
            "[6, 2000] loss: 0.593\n",
            "[6, 4000] loss: 0.602\n",
            "[6, 6000] loss: 0.613\n",
            "[6, 8000] loss: 0.621\n",
            "[6, 10000] loss: 0.625\n",
            "[6, 12000] loss: 0.619\n",
            "[7, 2000] loss: 0.464\n",
            "[7, 4000] loss: 0.496\n",
            "[7, 6000] loss: 0.498\n",
            "[7, 8000] loss: 0.556\n",
            "[7, 10000] loss: 0.533\n",
            "[7, 12000] loss: 0.540\n",
            "[8, 2000] loss: 0.372\n",
            "[8, 4000] loss: 0.437\n",
            "[8, 6000] loss: 0.461\n",
            "[8, 8000] loss: 0.456\n",
            "[8, 10000] loss: 0.455\n",
            "[8, 12000] loss: 0.476\n",
            "[9, 2000] loss: 0.348\n",
            "[9, 4000] loss: 0.352\n",
            "[9, 6000] loss: 0.391\n",
            "[9, 8000] loss: 0.401\n",
            "[9, 10000] loss: 0.408\n",
            "[9, 12000] loss: 0.428\n",
            "[10, 2000] loss: 0.289\n",
            "[10, 4000] loss: 0.287\n",
            "[10, 6000] loss: 0.330\n",
            "[10, 8000] loss: 0.342\n",
            "[10, 10000] loss: 0.365\n",
            "[10, 12000] loss: 0.358\n",
            "Finished Training\n"
          ]
        }
      ],
      "source": [
        "for epoch in range(10):  # making it run for 2 epochs\n",
        "\n",
        "    running_loss = 0.0\n",
        "    for i, data in enumerate(trainloader, 0):\n",
        "        # get the inputs; data is a tuple of (inputs, labels)\n",
        "        inputs, labels = data\n",
        "        inputs, labels = inputs.to(device), labels.to(device)\n",
        "\n",
        "        # zero the parameter gradients\n",
        "        optimizer.zero_grad()\n",
        "\n",
        "        # forward + backward + optimize\n",
        "        outputs = net(inputs)\n",
        "        loss = criterion(outputs, labels)\n",
        "        loss.backward()\n",
        "        optimizer.step()\n",
        "\n",
        "        # print statistics\n",
        "        running_loss += loss.item()\n",
        "        if i % 2000 == 1999:    # print every 2000 mini-batches\n",
        "            print(f'[{epoch + 1}, {i + 1}] loss: {running_loss / 2000:.3f}')\n",
        "            running_loss = 0.0\n",
        "\n",
        "print('Finished Training')"
      ]
    },
    {
      "cell_type": "code",
      "execution_count": null,
      "metadata": {
        "id": "jQ06jBXyz_YO",
        "outputId": "2646256d-be04-4c64-87b4-de1ff6df40f8",
        "colab": {
          "base_uri": "https://localhost:8080/",
          "height": 284
        }
      },
      "outputs": [
        {
          "output_type": "display_data",
          "data": {
            "text/plain": [
              "<Figure size 640x480 with 1 Axes>"
            ],
            "image/png": "[encoded data removed]"
          },
          "metadata": {}
        },
        {
          "output_type": "stream",
          "name": "stdout",
          "text": [
            "Groundtruth values are:\n",
            "cat\n",
            "ship\n",
            "ship\n",
            "plane\n"
          ]
        }
      ],
      "source": [
        "dataiter = iter(testloader)\n",
        "images, labels = next(dataiter)\n",
        "\n",
        "# print images\n",
        "imshow(torchvision.utils.make_grid(images))\n",
        "print ('Groundtruth values are:')\n",
        "for i in range (4):\n",
        "  print (classes[labels[i]])"
      ]
    },
    {
      "cell_type": "code",
      "execution_count": null,
      "metadata": {
        "id": "IWSYj8BV5OTW"
      },
      "outputs": [],
      "source": [
        "outputs = net(images.to(device))"
      ]
    },
    {
      "cell_type": "code",
      "execution_count": null,
      "metadata": {
        "id": "Htnnv97v6Glr",
        "outputId": "e2e91fb8-44d8-46cc-a182-0e7fbcd5369d",
        "colab": {
          "base_uri": "https://localhost:8080/"
        }
      },
      "outputs": [
        {
          "output_type": "stream",
          "name": "stdout",
          "text": [
            "tensor([[ -3.4526,  -1.8453,   1.2795,   5.9379,  -2.4330,   5.4341,   2.2200,\n",
            "          -2.7587,  -1.4390,  -3.1927],\n",
            "        [  8.3949,  17.5015,  -0.8003,  -7.9175, -22.1741, -18.3657,  -5.1066,\n",
            "         -20.9567,  27.6320,   5.4174],\n",
            "        [  1.4116,   4.8907,  -3.8409,   0.4748,  -5.6640,  -3.5395,  -0.6683,\n",
            "          -4.8779,   6.1302,   4.7339],\n",
            "        [ 10.5244,   2.5182,  -0.2191,  -2.4477,  -6.0575,  -6.5855,  -4.8592,\n",
            "          -8.4570,  12.5450,   2.4210]], device='cuda:0',\n",
            "       grad_fn=<AddmmBackward0>)\n"
          ]
        }
      ],
      "source": [
        "print (outputs)"
      ]
    },
    {
      "cell_type": "code",
      "execution_count": null,
      "metadata": {
        "id": "mKKZjko46IZm",
        "outputId": "ae20f815-3acb-447c-c8b5-6ef1953869bc",
        "colab": {
          "base_uri": "https://localhost:8080/"
        }
      },
      "outputs": [
        {
          "output_type": "stream",
          "name": "stdout",
          "text": [
            "tensor([3, 8, 8, 8], device='cuda:0')\n"
          ]
        }
      ],
      "source": [
        "_, indices = torch.max(outputs, 1)\n",
        "print (indices)\n",
        "indices = list(indices)"
      ]
    },
    {
      "cell_type": "code",
      "execution_count": null,
      "metadata": {
        "id": "-X_F3tDv7XPB",
        "outputId": "3dd8892e-db77-4bac-d134-72e1efe9354e",
        "colab": {
          "base_uri": "https://localhost:8080/"
        }
      },
      "outputs": [
        {
          "output_type": "stream",
          "name": "stdout",
          "text": [
            "predictions are:\n",
            "0) : cat\n",
            "1) : ship\n",
            "2) : ship\n",
            "3) : ship\n"
          ]
        }
      ],
      "source": [
        "print ('predictions are:')\n",
        "for i in range (4):\n",
        "    print (f\"{i}) : {classes[indices[i]]}\")"
      ]
    },
    {
      "cell_type": "code",
      "execution_count": null,
      "metadata": {
        "id": "T21mFvZB8bh4",
        "outputId": "1bc5dede-cee2-46e8-89e6-b9b041603ac0",
        "colab": {
          "base_uri": "https://localhost:8080/"
        }
      },
      "outputs": [
        {
          "output_type": "stream",
          "name": "stdout",
          "text": [
            "Accuracy of the network on the 10000 test images: 76 %\n"
          ]
        }
      ],
      "source": [
        "correct = 0\n",
        "total = 0\n",
        "# since we're not training, we don't need to calculate the gradients for our outputs\n",
        "with torch.no_grad():\n",
        "    for data in testloader:\n",
        "        images, labels = data\n",
        "        outputs = net(images.to(device))\n",
        "        # the class with the highest energy is what we choose as prediction\n",
        "        _, predicted = torch.max(outputs.data, 1)\n",
        "        total += labels.size(0)\n",
        "        correct += (predicted == labels.to(device)).sum().item()\n",
        "\n",
        "print(f'Accuracy of the network on the 10000 test images: {100 * correct // total} %')"
      ]
    }
  ],
  "metadata": {
    "accelerator": "GPU",
    "colab": {
      "gpuType": "T4",
      "provenance": []
    },
    "kernelspec": {
      "display_name": "Python 3",
      "name": "python3"
    },
    "language_info": {
      "name": "python"
    }
  },
  "nbformat": 4,
  "nbformat_minor": 0
}