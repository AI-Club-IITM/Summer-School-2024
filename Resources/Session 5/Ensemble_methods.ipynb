{
  "nbformat": 4,
  "nbformat_minor": 0,
  "metadata": {
    "colab": {
      "provenance": []
    },
    "kernelspec": {
      "name": "python3",
      "display_name": "Python 3"
    },
    "language_info": {
      "name": "python"
    }
  },
  "cells": [
    {
      "cell_type": "code",
      "source": [
        "import pandas as pd\n",
        "import numpy as np\n",
        "from sklearn.model_selection import train_test_split\n",
        "\n",
        "# Load the dataset\n",
        "data = pd.read_csv(\"insurance.csv\")\n"
      ],
      "metadata": {
        "id": "YaRC5dR1S7jA"
      },
      "execution_count": null,
      "outputs": []
    },
    {
      "cell_type": "code",
      "source": [
        "# Display the first few rows of the dataset\n",
        "print(data.head())\n",
        "\n",
        "# Check for missing values\n",
        "print(data.isnull().sum())\n",
        "\n",
        "# Convert categorical variables to numerical using one-hot encoding\n",
        "data = pd.get_dummies(data, columns=['sex', 'smoker', 'region'])\n",
        "\n",
        "# Split the data into features (X) and target variable (y)\n",
        "X = data.drop('charges', axis=1)\n",
        "y = data['charges']\n",
        "\n",
        "# Split the data into training and testing sets\n",
        "X_train, X_test, y_train, y_test = train_test_split(X, y, test_size=0.2, random_state=42)\n",
        "\n",
        "len (X), len(X_train)"
      ],
      "metadata": {
        "colab": {
          "base_uri": "https://localhost:8080/"
        },
        "id": "yvLfYdNjS8Ks",
        "outputId": "316b3548-ab5d-4c07-82ca-e64c21a9d881"
      },
      "execution_count": null,
      "outputs": [
        {
          "output_type": "stream",
          "name": "stdout",
          "text": [
            "   age     sex     bmi  children smoker     region      charges\n",
            "0   19  female  27.900         0    yes  southwest  16884.92400\n",
            "1   18    male  33.770         1     no  southeast   1725.55230\n",
            "2   28    male  33.000         3     no  southeast   4449.46200\n",
            "3   33    male  22.705         0     no  northwest  21984.47061\n",
            "4   32    male  28.880         0     no  northwest   3866.85520\n",
            "age         0\n",
            "sex         0\n",
            "bmi         0\n",
            "children    0\n",
            "smoker      0\n",
            "region      0\n",
            "charges     0\n",
            "dtype: int64\n"
          ]
        },
        {
          "output_type": "execute_result",
          "data": {
            "text/plain": [
              "(1338, 1070)"
            ]
          },
          "metadata": {},
          "execution_count": 5
        }
      ]
    },
    {
      "cell_type": "code",
      "source": [
        "from sklearn.linear_model import LinearRegression\n",
        "from sklearn.metrics import mean_squared_error, r2_score\n",
        "\n",
        "# Train a linear regression model\n",
        "lr_model = LinearRegression()\n",
        "lr_model.fit(X_train, y_train)\n",
        "\n",
        "# Make predictions on the test set\n",
        "lr_predictions = lr_model.predict(X_test)\n",
        "\n",
        "# Calculate error and accuracy metrics\n",
        "lr_rmse = np.sqrt(mean_squared_error(y_test, lr_predictions))\n",
        "lr_r2 = r2_score(y_test, lr_predictions)\n",
        "\n",
        "print(\"Linear Regression:\")\n",
        "print(\"RMSE:\", lr_rmse)\n",
        "print(\"R^2 Score:\", lr_r2)\n"
      ],
      "metadata": {
        "colab": {
          "base_uri": "https://localhost:8080/"
        },
        "id": "lzQHyMhCS9mE",
        "outputId": "4d72c783-767d-4f9f-9b6f-ac578fb35963"
      },
      "execution_count": null,
      "outputs": [
        {
          "output_type": "stream",
          "name": "stdout",
          "text": [
            "Linear Regression:\n",
            "RMSE: 5796.2846592762735\n",
            "R^2 Score: 0.7835929767120723\n"
          ]
        }
      ]
    },
    {
      "cell_type": "code",
      "source": [
        "from sklearn.ensemble import RandomForestRegressor\n",
        "\n",
        "# Train Random Forest Regressor\n",
        "rf_model = RandomForestRegressor(random_state=42)\n",
        "rf_model.fit(X_train, y_train)\n",
        "rf_predictions = rf_model.predict(X_test)\n",
        "\n",
        "# Calculate error and accuracy metrics\n",
        "rf_rmse = np.sqrt(mean_squared_error(y_test, rf_predictions))\n",
        "rf_r2 = r2_score(y_test, rf_predictions)\n",
        "\n",
        "print(\"Random Forest:\")\n",
        "print(\"RMSE:\", rf_rmse)\n",
        "print(\"R^2 Score:\", rf_r2)\n"
      ],
      "metadata": {
        "colab": {
          "base_uri": "https://localhost:8080/"
        },
        "id": "D8UPyUqxS_Rb",
        "outputId": "14177cf6-32ee-43f6-defd-6f3d33fd5601"
      },
      "execution_count": null,
      "outputs": [
        {
          "output_type": "stream",
          "name": "stdout",
          "text": [
            "Random Forest:\n",
            "RMSE: 4588.228101917115\n",
            "R^2 Score: 0.864399297096109\n"
          ]
        }
      ]
    },
    {
      "cell_type": "code",
      "source": [
        "from sklearn.ensemble import AdaBoostRegressor\n",
        "\n",
        "# Train AdaBoost Regressor\n",
        "adaboost_model = AdaBoostRegressor(random_state=42)\n",
        "adaboost_model.fit(X_train, y_train)\n",
        "adaboost_predictions = adaboost_model.predict(X_test)\n",
        "\n",
        "# Calculate error and accuracy metrics\n",
        "adaboost_rmse = np.sqrt(mean_squared_error(y_test, adaboost_predictions))\n",
        "adaboost_r2 = r2_score(y_test, adaboost_predictions)\n",
        "\n",
        "print(\"AdaBoost:\")\n",
        "print(\"RMSE:\", adaboost_rmse)\n",
        "print(\"R^2 Score:\", adaboost_r2)\n"
      ],
      "metadata": {
        "colab": {
          "base_uri": "https://localhost:8080/"
        },
        "id": "_EawMcUnTBAE",
        "outputId": "9e2952b4-70d4-42f7-c890-943e2a29361a"
      },
      "execution_count": null,
      "outputs": [
        {
          "output_type": "stream",
          "name": "stdout",
          "text": [
            "AdaBoost:\n",
            "RMSE: 5267.060510339542\n",
            "R^2 Score: 0.8213065823275454\n"
          ]
        }
      ]
    },
    {
      "cell_type": "code",
      "source": [
        "from sklearn.ensemble import GradientBoostingRegressor\n",
        "\n",
        "# Train Gradient Boosting Regressor\n",
        "gradientboost_model = GradientBoostingRegressor(random_state=42)\n",
        "gradientboost_model.fit(X_train, y_train)\n",
        "gradientboost_predictions = gradientboost_model.predict(X_test)\n",
        "\n",
        "# Calculate error and accuracy metrics\n",
        "gradientboost_rmse = np.sqrt(mean_squared_error(y_test, gradientboost_predictions))\n",
        "gradientboost_r2 = r2_score(y_test, gradientboost_predictions)\n",
        "\n",
        "print(\"Gradient Boosting:\")\n",
        "print(\"RMSE:\", gradientboost_rmse)\n",
        "print(\"R^2 Score:\", gradientboost_r2)\n"
      ],
      "metadata": {
        "colab": {
          "base_uri": "https://localhost:8080/"
        },
        "id": "7EdSci6aTCmK",
        "outputId": "c6295a38-9179-4830-8161-7d09176d7966"
      },
      "execution_count": null,
      "outputs": [
        {
          "output_type": "stream",
          "name": "stdout",
          "text": [
            "Gradient Boosting:\n",
            "RMSE: 4329.210862471454\n",
            "R^2 Score: 0.8792771669587912\n"
          ]
        }
      ]
    },
    {
      "cell_type": "code",
      "source": [
        "from xgboost import XGBRegressor\n",
        "\n",
        "# Train XGBoost Regressor\n",
        "xgb_model = XGBRegressor(random_state=42)\n",
        "xgb_model.fit(X_train, y_train)\n",
        "xgb_predictions = xgb_model.predict(X_test)\n",
        "\n",
        "# Calculate error and accuracy metrics\n",
        "xgb_rmse = np.sqrt(mean_squared_error(y_test, xgb_predictions))\n",
        "xgb_r2 = r2_score(y_test, xgb_predictions)\n",
        "\n",
        "print(\"XGBoost:\")\n",
        "print(\"RMSE:\", xgb_rmse)\n",
        "print(\"R^2 Score:\", xgb_r2)\n"
      ],
      "metadata": {
        "colab": {
          "base_uri": "https://localhost:8080/"
        },
        "id": "7BPwwqqMTDw8",
        "outputId": "245877a8-352c-4e1f-cd29-ad0f78787de6"
      },
      "execution_count": null,
      "outputs": [
        {
          "output_type": "stream",
          "name": "stdout",
          "text": [
            "XGBoost:\n",
            "RMSE: 4738.609614038749\n",
            "R^2 Score: 0.8553648660539922\n"
          ]
        }
      ]
    }
  ]
}