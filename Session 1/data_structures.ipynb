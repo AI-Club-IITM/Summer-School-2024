{
  "nbformat": 4,
  "nbformat_minor": 0,
  "metadata": {
    "colab": {
      "provenance": []
    },
    "kernelspec": {
      "name": "python3",
      "display_name": "Python 3"
    },
    "language_info": {
      "name": "python"
    }
  },
  "cells": [
    {
      "cell_type": "markdown",
      "source": [
        "# Data Structures\n",
        "\n",
        "- Data Structures are data storing formats\n",
        "- Each format would ease the access of data in a particular case\n",
        "- We will cover lists, tuples, sets and dictionaries"
      ],
      "metadata": {
        "id": "ziAZouJHdXkY"
      }
    },
    {
      "cell_type": "markdown",
      "source": [
        "# Lists\n",
        "\n",
        "  - An ordered data structure with elements separated by a comma and enclosed within square brackets\n",
        "\n",
        "\n",
        "\n"
      ],
      "metadata": {
        "id": "alWcpfJtvJEh"
      }
    },
    {
      "cell_type": "code",
      "source": [
        "# Defining a list\n",
        "lst = [1, 2, \"hello\", \"world\", True]\n",
        "lst"
      ],
      "metadata": {
        "colab": {
          "base_uri": "https://localhost:8080/"
        },
        "id": "_3h4Fnz5vZjr",
        "outputId": "11d771b5-6977-4a35-c01e-eae828d76acd"
      },
      "execution_count": null,
      "outputs": [
        {
          "output_type": "execute_result",
          "data": {
            "text/plain": [
              "[1, 2, 'hello', 'world', True]"
            ]
          },
          "metadata": {},
          "execution_count": 16
        }
      ]
    },
    {
      "cell_type": "code",
      "source": [
        "# Accessing individual elements of a list\n",
        "print(lst[0], lst[2])"
      ],
      "metadata": {
        "colab": {
          "base_uri": "https://localhost:8080/"
        },
        "id": "FC5pkYSxwdH4",
        "outputId": "87ae6743-9b3c-49cc-f9a6-794ee6b852be"
      },
      "execution_count": null,
      "outputs": [
        {
          "output_type": "stream",
          "name": "stdout",
          "text": [
            "1 hello\n"
          ]
        }
      ]
    },
    {
      "cell_type": "code",
      "source": [
        "# Length of the list\n",
        "len(lst)"
      ],
      "metadata": {
        "colab": {
          "base_uri": "https://localhost:8080/"
        },
        "id": "8nZi3npcwp9D",
        "outputId": "c2186993-c257-4361-e194-19b0d008a665"
      },
      "execution_count": null,
      "outputs": [
        {
          "output_type": "execute_result",
          "data": {
            "text/plain": [
              "5"
            ]
          },
          "metadata": {},
          "execution_count": 18
        }
      ]
    },
    {
      "cell_type": "code",
      "source": [
        "# Adding elements to the list\n",
        "lst.append(\"hi\")\n",
        "lst.append(\"bye\")\n",
        "lst"
      ],
      "metadata": {
        "colab": {
          "base_uri": "https://localhost:8080/"
        },
        "id": "oP2uiuYlw4GY",
        "outputId": "bc72083e-6abc-4ccd-c19c-81208e982754"
      },
      "execution_count": null,
      "outputs": [
        {
          "output_type": "execute_result",
          "data": {
            "text/plain": [
              "[1, 2, 'hello', 'world', True, 'hi', 'bye']"
            ]
          },
          "metadata": {},
          "execution_count": 19
        }
      ]
    },
    {
      "cell_type": "code",
      "source": [
        "# Creating list of number using for loop\n",
        "new_lst = []\n",
        "for i in range(20):\n",
        "  new_lst.append(i)\n",
        "new_lst"
      ],
      "metadata": {
        "colab": {
          "base_uri": "https://localhost:8080/"
        },
        "id": "yW4S2VrQx0J0",
        "outputId": "833c8f55-fbab-4398-c3b9-4b4b4eceb98e"
      },
      "execution_count": null,
      "outputs": [
        {
          "output_type": "execute_result",
          "data": {
            "text/plain": [
              "[0, 1, 2, 3, 4, 5, 6, 7, 8, 9, 10, 11, 12, 13, 14, 15, 16, 17, 18, 19]"
            ]
          },
          "metadata": {},
          "execution_count": 20
        }
      ]
    },
    {
      "cell_type": "code",
      "source": [
        "# Creating list of numbers using range\n",
        "new_lst = list(range(20))\n",
        "new_lst"
      ],
      "metadata": {
        "colab": {
          "base_uri": "https://localhost:8080/"
        },
        "id": "JNxWk3L5xYtD",
        "outputId": "c1d79d02-99ff-45a4-dd5e-db335d6aba67"
      },
      "execution_count": null,
      "outputs": [
        {
          "output_type": "execute_result",
          "data": {
            "text/plain": [
              "[0, 1, 2, 3, 4, 5, 6, 7, 8, 9, 10, 11, 12, 13, 14, 15, 16, 17, 18, 19]"
            ]
          },
          "metadata": {},
          "execution_count": 21
        }
      ]
    },
    {
      "cell_type": "code",
      "source": [
        "# Creating list of characters in a string using loop\n",
        "new_lst = []\n",
        "word = \"hello\"\n",
        "for i in range(len(word)):\n",
        "  new_lst.append(word[i])\n",
        "new_lst"
      ],
      "metadata": {
        "colab": {
          "base_uri": "https://localhost:8080/"
        },
        "id": "QZ30uMruyTiw",
        "outputId": "62181fc6-f7ff-4ece-89f6-ec07416a059f"
      },
      "execution_count": null,
      "outputs": [
        {
          "output_type": "execute_result",
          "data": {
            "text/plain": [
              "['h', 'e', 'l', 'l', 'o']"
            ]
          },
          "metadata": {},
          "execution_count": 22
        }
      ]
    },
    {
      "cell_type": "code",
      "source": [
        "# Creating list of characters in a string\n",
        "new_lst = list(\"hello\")\n",
        "new_lst"
      ],
      "metadata": {
        "colab": {
          "base_uri": "https://localhost:8080/"
        },
        "id": "ST8aRcW4xm0w",
        "outputId": "7075b187-ec43-4def-d4de-0f269a0ce44f"
      },
      "execution_count": null,
      "outputs": [
        {
          "output_type": "execute_result",
          "data": {
            "text/plain": [
              "['h', 'e', 'l', 'l', 'o']"
            ]
          },
          "metadata": {},
          "execution_count": 23
        }
      ]
    },
    {
      "cell_type": "code",
      "source": [
        "# Negative indexing in lists\n",
        "lst = [1, 2, 3, 4, 5]\n",
        "print(lst[-1], lst[-2])"
      ],
      "metadata": {
        "colab": {
          "base_uri": "https://localhost:8080/"
        },
        "id": "Dp-Yor9mxwbT",
        "outputId": "56ea0d7b-52ac-4181-bd4d-ceb9e15f1440"
      },
      "execution_count": null,
      "outputs": [
        {
          "output_type": "stream",
          "name": "stdout",
          "text": [
            "5 4\n"
          ]
        }
      ]
    },
    {
      "cell_type": "code",
      "source": [
        "# Slicing in lists\n",
        "lst = [1, 2, 3, 4, 5, 6, 7]\n",
        "print(lst[2:4])\n",
        "print(lst[2:])\n",
        "print(lst[:4])\n",
        "print(lst[-4:-2])\n",
        "print(lst[-4:])\n",
        "print(lst[:-2])\n",
        "print(lst == lst[:])"
      ],
      "metadata": {
        "colab": {
          "base_uri": "https://localhost:8080/"
        },
        "id": "5_cJMSqT0Gjt",
        "outputId": "2323068b-77f1-446d-fc8a-cbb273b1c70d"
      },
      "execution_count": null,
      "outputs": [
        {
          "output_type": "stream",
          "name": "stdout",
          "text": [
            "[3, 4]\n",
            "[3, 4, 5, 6, 7]\n",
            "[1, 2, 3, 4]\n",
            "[4, 5]\n",
            "[4, 5, 6, 7]\n",
            "[1, 2, 3, 4, 5]\n",
            "True\n"
          ]
        }
      ]
    },
    {
      "cell_type": "code",
      "source": [
        "# Removing an element in the list\n",
        "lst = [1, 2, 3, 2, 1]\n",
        "lst.remove(2)\n",
        "lst"
      ],
      "metadata": {
        "colab": {
          "base_uri": "https://localhost:8080/"
        },
        "id": "f7v8j_Sn0Z06",
        "outputId": "5a263982-c1c1-40c7-ab4b-d483ca99e030"
      },
      "execution_count": null,
      "outputs": [
        {
          "output_type": "execute_result",
          "data": {
            "text/plain": [
              "[1, 3, 2, 1]"
            ]
          },
          "metadata": {},
          "execution_count": 26
        }
      ]
    },
    {
      "cell_type": "markdown",
      "source": [
        "# Tuples\n",
        "- An ordered data structure with elements separated by a comma and enclosed within parenthesis\n",
        "- Tuples are immutable (i.e. their value cant be changed)\n",
        "- All the methods of list apply here except for anything that changes value of the tuple (immutable)"
      ],
      "metadata": {
        "id": "SFbBeIXA0t_z"
      }
    },
    {
      "cell_type": "code",
      "source": [
        "# Defining a tuple\n",
        "tup = (1, 2, 3, 4, 5)\n",
        "tup"
      ],
      "metadata": {
        "colab": {
          "base_uri": "https://localhost:8080/"
        },
        "id": "EM5VaNn808vc",
        "outputId": "2e4566bc-0ba1-46af-9e15-e6c1f3a07caa"
      },
      "execution_count": null,
      "outputs": [
        {
          "output_type": "execute_result",
          "data": {
            "text/plain": [
              "(1, 2, 3, 4, 5)"
            ]
          },
          "metadata": {},
          "execution_count": 27
        }
      ]
    },
    {
      "cell_type": "code",
      "source": [
        "# Changing the value of the tuple at an index\n",
        "tup[2] = 8"
      ],
      "metadata": {
        "colab": {
          "base_uri": "https://localhost:8080/",
          "height": 179
        },
        "id": "9eS1NfQN1uE4",
        "outputId": "ee60bc99-dc98-478b-b039-da79169646b6"
      },
      "execution_count": null,
      "outputs": [
        {
          "output_type": "error",
          "ename": "TypeError",
          "evalue": "'tuple' object does not support item assignment",
          "traceback": [
            "\u001b[0;31m---------------------------------------------------------------------------\u001b[0m",
            "\u001b[0;31mTypeError\u001b[0m                                 Traceback (most recent call last)",
            "\u001b[0;32m<ipython-input-28-246b11b30396>\u001b[0m in \u001b[0;36m<cell line: 2>\u001b[0;34m()\u001b[0m\n\u001b[1;32m      1\u001b[0m \u001b[0;31m# Changing the value of the tuple at an index\u001b[0m\u001b[0;34m\u001b[0m\u001b[0;34m\u001b[0m\u001b[0m\n\u001b[0;32m----> 2\u001b[0;31m \u001b[0mtup\u001b[0m\u001b[0;34m[\u001b[0m\u001b[0;36m2\u001b[0m\u001b[0;34m]\u001b[0m \u001b[0;34m=\u001b[0m \u001b[0;36m8\u001b[0m\u001b[0;34m\u001b[0m\u001b[0;34m\u001b[0m\u001b[0m\n\u001b[0m",
            "\u001b[0;31mTypeError\u001b[0m: 'tuple' object does not support item assignment"
          ]
        }
      ]
    },
    {
      "cell_type": "code",
      "source": [
        "# Example definition that is wont turn out to be a tuple\n",
        "tup = (4)\n",
        "print(tup, type(tup))\n",
        "lst = [4]\n",
        "print(lst, type(lst))"
      ],
      "metadata": {
        "colab": {
          "base_uri": "https://localhost:8080/"
        },
        "id": "KeSY8mFl1xcE",
        "outputId": "6992ba48-a196-4721-8e3d-90d36a04c741"
      },
      "execution_count": null,
      "outputs": [
        {
          "output_type": "stream",
          "name": "stdout",
          "text": [
            "4 <class 'int'>\n",
            "[4] <class 'list'>\n"
          ]
        }
      ]
    },
    {
      "cell_type": "markdown",
      "source": [
        "# Sets\n",
        "- An ordered data structure with elements separated by a comma and enclosed within curly brackets\n",
        "- Sets are always sorted"
      ],
      "metadata": {
        "id": "RlJAGZ3Q2XqP"
      }
    },
    {
      "cell_type": "code",
      "source": [
        "# A numerical set\n",
        "s = {5, 3, 7, 2, 10}\n",
        "s"
      ],
      "metadata": {
        "colab": {
          "base_uri": "https://localhost:8080/"
        },
        "id": "CdWQGixz2ld2",
        "outputId": "ef02b0b6-9a9f-4633-da30-ce09f886b1a7"
      },
      "execution_count": null,
      "outputs": [
        {
          "output_type": "execute_result",
          "data": {
            "text/plain": [
              "{2, 3, 5, 7, 10}"
            ]
          },
          "metadata": {},
          "execution_count": 30
        }
      ]
    },
    {
      "cell_type": "code",
      "source": [
        "# A word set\n",
        "s = {\"cherry\", \"apple\", \"banana\"}\n",
        "s"
      ],
      "metadata": {
        "colab": {
          "base_uri": "https://localhost:8080/"
        },
        "id": "gScFFQBx2xqf",
        "outputId": "a39a1b99-a714-44f9-ea19-ee2790ecfebe"
      },
      "execution_count": null,
      "outputs": [
        {
          "output_type": "execute_result",
          "data": {
            "text/plain": [
              "{'apple', 'banana', 'cherry'}"
            ]
          },
          "metadata": {},
          "execution_count": 31
        }
      ]
    },
    {
      "cell_type": "code",
      "source": [
        "# Set intersection, union and difference\n",
        "\n",
        "sample_set_1 = {1, 2, 3, 4, 5, 6, 7}\n",
        "sample_set_2 = {1, 2, 3, 4, 5, 8}\n",
        "\n",
        "\n",
        "print(\"The sets: \", sample_set_1, sample_set_2)\n",
        "print(\"Intersection: \", sample_set_1 & sample_set_2)\n",
        "print(\"Union: \", sample_set_1 | sample_set_2)\n",
        "print(\"Difference: \", sample_set_1 - sample_set_2)"
      ],
      "metadata": {
        "colab": {
          "base_uri": "https://localhost:8080/"
        },
        "id": "LI563LAz28AD",
        "outputId": "98b21ffa-0b2b-4708-d6be-48a2d3bcfc00"
      },
      "execution_count": null,
      "outputs": [
        {
          "output_type": "stream",
          "name": "stdout",
          "text": [
            "The sets:  {1, 2, 3, 4, 5, 6, 7} {1, 2, 3, 4, 5, 8}\n",
            "Intersection:  {1, 2, 3, 4, 5}\n",
            "Union:  {1, 2, 3, 4, 5, 6, 7, 8}\n",
            "Difference:  {6, 7}\n"
          ]
        }
      ]
    },
    {
      "cell_type": "markdown",
      "source": [
        "# Dictionary\n",
        "- A Dictionary is collection of key-value pairs\n",
        "- Keys of a dictionary are unique but values can have duplicates"
      ],
      "metadata": {
        "id": "_4XRH_Dx3a_s"
      }
    },
    {
      "cell_type": "code",
      "source": [
        "# Defining a dict\n",
        "shop = {\"pen\": 5,\n",
        "        \"pencil\": 3,\n",
        "        \"book\": 10,\n",
        "        \"sharpener\": 3}\n",
        "shop"
      ],
      "metadata": {
        "colab": {
          "base_uri": "https://localhost:8080/"
        },
        "id": "mgB3YfJh3sXD",
        "outputId": "5e9247c9-0026-4012-84cb-a1c47667dce1"
      },
      "execution_count": null,
      "outputs": [
        {
          "output_type": "execute_result",
          "data": {
            "text/plain": [
              "{'pen': 5, 'pencil': 3, 'book': 10, 'sharpener': 3}"
            ]
          },
          "metadata": {},
          "execution_count": 33
        }
      ]
    },
    {
      "cell_type": "code",
      "source": [
        "# Accessing an element\n",
        "print(f\"Price of the pen is\", shop[\"pen\"], \"rupees\")"
      ],
      "metadata": {
        "colab": {
          "base_uri": "https://localhost:8080/"
        },
        "id": "42e1gTvl45Ps",
        "outputId": "4d1262ac-12d7-4951-c1ea-0d0020fffcbb"
      },
      "execution_count": null,
      "outputs": [
        {
          "output_type": "stream",
          "name": "stdout",
          "text": [
            "Price of the pen is 5 rupees\n"
          ]
        }
      ]
    },
    {
      "cell_type": "code",
      "source": [
        "# Adding an element\n",
        "shop[\"eraser\"] = 2\n",
        "shop"
      ],
      "metadata": {
        "colab": {
          "base_uri": "https://localhost:8080/"
        },
        "id": "b0S-91h35IR8",
        "outputId": "7bf096de-8f15-45ad-b667-506e53a2d4e5"
      },
      "execution_count": null,
      "outputs": [
        {
          "output_type": "execute_result",
          "data": {
            "text/plain": [
              "{'pen': 5, 'pencil': 3, 'book': 10, 'sharpener': 3, 'eraser': 2}"
            ]
          },
          "metadata": {},
          "execution_count": 35
        }
      ]
    },
    {
      "cell_type": "code",
      "source": [
        "# Removing an element\n",
        "shop.pop(\"pencil\")\n",
        "shop"
      ],
      "metadata": {
        "colab": {
          "base_uri": "https://localhost:8080/"
        },
        "id": "hEMy5At35u7u",
        "outputId": "ea7b0c58-3df9-4f6e-efea-a7aae60b0cc1"
      },
      "execution_count": null,
      "outputs": [
        {
          "output_type": "execute_result",
          "data": {
            "text/plain": [
              "{'pen': 5, 'book': 10, 'sharpener': 3, 'eraser': 2}"
            ]
          },
          "metadata": {},
          "execution_count": 36
        }
      ]
    },
    {
      "cell_type": "code",
      "source": [
        "# Getting the keys of the dictionary\n",
        "shop_keys = shop.keys()\n",
        "shop_keys"
      ],
      "metadata": {
        "colab": {
          "base_uri": "https://localhost:8080/"
        },
        "id": "CYTN80vF5aeX",
        "outputId": "199dfc04-6cdb-4cf5-846a-643368390b9c"
      },
      "execution_count": null,
      "outputs": [
        {
          "output_type": "execute_result",
          "data": {
            "text/plain": [
              "dict_keys(['pen', 'book', 'sharpener', 'eraser'])"
            ]
          },
          "metadata": {},
          "execution_count": 37
        }
      ]
    },
    {
      "cell_type": "code",
      "source": [
        "# Getting the values of the dictionary\n",
        "shop_values = shop.values()\n",
        "shop_values"
      ],
      "metadata": {
        "colab": {
          "base_uri": "https://localhost:8080/"
        },
        "id": "2XfcNU7F5hmt",
        "outputId": "f2597780-5bcb-42f6-8cbd-2c8563b0f382"
      },
      "execution_count": null,
      "outputs": [
        {
          "output_type": "execute_result",
          "data": {
            "text/plain": [
              "dict_values([5, 10, 3, 2])"
            ]
          },
          "metadata": {},
          "execution_count": 38
        }
      ]
    },
    {
      "cell_type": "markdown",
      "source": [
        "# Question\n",
        "- To answer go to slido.com\n",
        "- Put the passcode: 3823580\n",
        "- Or scan the QR below\n",
        "\n",
        "\n",
        "\n",
        "\n",
        "\n",
        "\n",
        "![Screenshot 2024-06-16 at 11-39-09 data structures question.png](data:image/png;base64,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)\n"
      ],
      "metadata": {
        "id": "D0k2fF3ukjsH"
      }
    },
    {
      "cell_type": "markdown",
      "source": [
        "# Classes and Objects Game\n",
        "\n",
        "## In this example we will build a game with animal super class, a dog class and a cat class inheriting from the animal class.\n",
        "\n",
        "## Here two animals apply their attack subsequently and we will determine the winner."
      ],
      "metadata": {
        "id": "-HRZVJ4TeGDr"
      }
    },
    {
      "cell_type": "code",
      "source": [
        "# init method of the super class\n",
        "\n",
        "class Animal:\n",
        "    def __init__(self, name, level, life):\n",
        "        self.name = name\n",
        "        self.level = level\n",
        "        self.life = life\n",
        "\n",
        "    def attack(self):\n",
        "      pass\n",
        "\n",
        "animal_dog = Animal(name=\"spiky\", level=4, life=25)\n",
        "\n",
        "print(animal_dog.name, animal_dog.level)"
      ],
      "metadata": {
        "colab": {
          "base_uri": "https://localhost:8080/"
        },
        "id": "I6hAruAgeMrh",
        "outputId": "eee1fd58-c5ae-4875-b93b-73b16ebb29a9"
      },
      "execution_count": null,
      "outputs": [
        {
          "output_type": "stream",
          "name": "stdout",
          "text": [
            "spiky 4\n"
          ]
        }
      ]
    },
    {
      "cell_type": "markdown",
      "source": [
        "# Now we will build specific classes for different types of animals like cat and dog"
      ],
      "metadata": {
        "id": "tCHxpTs0g_UW"
      }
    },
    {
      "cell_type": "code",
      "source": [
        "class Dog(Animal):\n",
        "    def __init__(self, name, level, life):\n",
        "        super().__init__(name, level, life)\n",
        "\n",
        "\n",
        "dog = Dog(name=\"spiky\", level=5, life=25)\n",
        "\n",
        "print(dog.name, dog.level)"
      ],
      "metadata": {
        "colab": {
          "base_uri": "https://localhost:8080/"
        },
        "id": "-5GYsTnzhMwe",
        "outputId": "be4c37be-716a-42dd-f4ec-420131396bbf"
      },
      "execution_count": null,
      "outputs": [
        {
          "output_type": "stream",
          "name": "stdout",
          "text": [
            "spiky 5\n"
          ]
        }
      ]
    },
    {
      "cell_type": "markdown",
      "source": [
        "# Building attack method for dog"
      ],
      "metadata": {
        "id": "yKh78ZnxnzV7"
      }
    },
    {
      "cell_type": "code",
      "source": [
        "class Dog(Animal):\n",
        "    def __init__(self, name, level, life):\n",
        "        super().__init__(name, level, life)\n",
        "\n",
        "    def attack(self, attack_type):\n",
        "        if attack_type == \"basic attack\":\n",
        "          damage = 2\n",
        "        elif attack_type == \"signature\":\n",
        "          damage = 5\n",
        "        elif attack_type == \"finisher\":\n",
        "          damage = 10\n",
        "\n",
        "        return damage\n",
        "\n",
        "dog = Dog(name=\"spiky\", level=5, life=25)\n",
        "\n",
        "dog.attack(\"finisher\")"
      ],
      "metadata": {
        "colab": {
          "base_uri": "https://localhost:8080/"
        },
        "id": "j6Q4POEtn3Id",
        "outputId": "5e940a35-a64f-4f61-bd61-3b2788d7aa5d"
      },
      "execution_count": null,
      "outputs": [
        {
          "output_type": "execute_result",
          "data": {
            "text/plain": [
              "10"
            ]
          },
          "metadata": {},
          "execution_count": 41
        }
      ]
    },
    {
      "cell_type": "markdown",
      "source": [
        "# Similarly we do for cat"
      ],
      "metadata": {
        "id": "gw6nDXkaiJYg"
      }
    },
    {
      "cell_type": "code",
      "source": [
        "class Cat(Animal):\n",
        "    def __init__(self, name, level, life):\n",
        "        super().__init__(name, level, life)\n",
        "\n",
        "    def attack(self, attack_type):\n",
        "        if attack_type == \"basic attack\":\n",
        "          damage = 1\n",
        "        elif attack_type == \"signature\":\n",
        "          damage = 4\n",
        "        elif attack_type == \"finisher\":\n",
        "          damage = 9\n",
        "\n",
        "        return damage\n",
        "\n",
        "    def print_name(self):\n",
        "      print(self.name)"
      ],
      "metadata": {
        "colab": {
          "base_uri": "https://localhost:8080/"
        },
        "id": "yy403I2IiVqn",
        "outputId": "0faf6fd3-f938-4ed4-fb1b-7a4ec4f9b5ec"
      },
      "execution_count": null,
      "outputs": [
        {
          "output_type": "stream",
          "name": "stdout",
          "text": [
            "whisker\n"
          ]
        }
      ]
    },
    {
      "cell_type": "markdown",
      "source": [
        "# Now lets build the game"
      ],
      "metadata": {
        "id": "RKC4bt8WkLw-"
      }
    },
    {
      "cell_type": "code",
      "source": [
        "import random\n",
        "\n",
        "def game(animal_1, animal_2):\n",
        "  print(f\"The game has started. The animals battling are {animal_1.name} vs. {animal_2.name}\")\n",
        "  print()\n",
        "  print()\n",
        "  print(f\"First come first serve.\")\n",
        "  print()\n",
        "  print()\n",
        "  animal_1_play = True\n",
        "\n",
        "  while animal_1.life > 0 and animal_2.life > 0:\n",
        "\n",
        "    if animal_1_play:\n",
        "      attack_type = random.choice([\"basic attack\", \"signature\", \"finisher\"])\n",
        "      animal_2.life -= animal_1.attack(attack_type)\n",
        "      print(f\"{animal_1.name} is attacking with its {attack_type}\")\n",
        "      print()\n",
        "      animal_1_play = False\n",
        "\n",
        "    else:\n",
        "      attack_type = random.choice([\"basic attack\", \"signature\", \"finisher\"])\n",
        "      animal_1.life -= animal_2.attack(attack_type)\n",
        "      print(f\"{animal_2.name} is attacking with its {attack_type}\")\n",
        "      print()\n",
        "      animal_1_play = True\n",
        "\n",
        "    print(f\"Current life: {animal_1.name} has life {animal_1.life}, {animal_2.name} has life {animal_2.life}\")\n",
        "    print()\n",
        "    print()\n",
        "\n",
        "  if animal_1.life > 0:\n",
        "    print(f\"The winner is {animal_1.name}\")\n",
        "  else:\n",
        "    print(f\"The winner is {animal_2.name}\")"
      ],
      "metadata": {
        "id": "MT486XjXkS9K"
      },
      "execution_count": null,
      "outputs": []
    },
    {
      "cell_type": "code",
      "source": [
        "dog = Dog(name=\"spiky\", level=5, life=15)\n",
        "cat = Cat(name=\"whisker\", level=4, life=15)\n",
        "\n",
        "game(dog, cat)"
      ],
      "metadata": {
        "colab": {
          "base_uri": "https://localhost:8080/"
        },
        "id": "RE3waiUksVRX",
        "outputId": "3aa6c9e3-8651-40b6-9f6d-b789ce589fc0"
      },
      "execution_count": null,
      "outputs": [
        {
          "output_type": "stream",
          "name": "stdout",
          "text": [
            "The game has started. The animals battling are spiky vs. whisker\n",
            "\n",
            "\n",
            "First come first serve.\n",
            "\n",
            "\n",
            "spiky is attacking with its signature\n",
            "\n",
            "Current life: spiky has life 15, whisker has life 10\n",
            "\n",
            "\n",
            "whisker is attacking with its basic attack\n",
            "\n",
            "Current life: spiky has life 14, whisker has life 10\n",
            "\n",
            "\n",
            "spiky is attacking with its finisher\n",
            "\n",
            "Current life: spiky has life 14, whisker has life 0\n",
            "\n",
            "\n",
            "The winner is spiky\n"
          ]
        }
      ]
    },
    {
      "cell_type": "markdown",
      "source": [
        "# Attendance QR\n",
        "\n",
        "![WhatsApp Image 2024-06-17 at 13.32.13_0a450f01.jpg](data:image/jpeg;base64,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)\n",
        "\n"
      ],
      "metadata": {
        "id": "YKolsSxNPj6N"
      }
    }
  ]
}
