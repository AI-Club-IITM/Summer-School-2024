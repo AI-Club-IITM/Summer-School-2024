{
  "nbformat": 4,
  "nbformat_minor": 0,
  "metadata": {
    "colab": {
      "provenance": []
    },
    "kernelspec": {
      "name": "python3",
      "display_name": "Python 3"
    },
    "language_info": {
      "name": "python"
    }
  },
  "cells": [
    {
      "cell_type": "markdown",
      "source": [
        "## Instructions\n",
        "- First, go to File -> Save a copy in Drive, to create a copy of the notebook.\n",
        "- Go through each question, and add your code in the spaces provided, as shown below:\n",
        "\n",
        "    \\### YOUR CODE STARTS HERE\n",
        "\n",
        "    **Your code should go in this block**\n",
        "\n",
        "    \\### YOUR CODE ENDS HERE\n",
        "- Or, it'll be mentioned as a comment, like the class variables in question 2\n",
        "\n",
        "- DO NOT modify any of the code outside of the block, as the assignments will be graded **automatically**, and will be checked to ensure that only that portion has been changed. DO NOT add any cells either\n",
        "- When you're done, go to File -> Download -> Download .ipynb\n",
        "- Name the file as follows: \\<NAME>\\_\\<PHONE NUMBER>_ASSIGNMENT_1.ipynb\n",
        "- Submit the **completed notebook** in the google form provided: https://forms.gle/Mz7wDcd41kEYgTATA\n"
      ],
      "metadata": {
        "id": "nyyIs21RmKwI"
      }
    },
    {
      "cell_type": "markdown",
      "source": [
        "### Question 1:\n",
        "Write a Python function that takes a list of integers and returns a new list containing only the even numbers from the original list, keeping the order intact.\n",
        "\n",
        "**Example**:\n",
        "```\n",
        "Input: [4,5,2,3,1,9]\n",
        "```\n",
        "```\n",
        "Output: [4,2]\n",
        "```\n"
      ],
      "metadata": {
        "id": "PUHEJfIZehSC"
      }
    },
    {
      "cell_type": "code",
      "execution_count": null,
      "metadata": {
        "id": "mzLXgEgdecVF"
      },
      "outputs": [],
      "source": [
        "from typing import List\n",
        "\n",
        "def filter_even_numbers(numbers: List[int]) -> List[int]:\n",
        "    \"\"\"\n",
        "    Filters the even numbers from a list of integers.\n",
        "\n",
        "    Parameters:\n",
        "    numbers (List[int]): The list of integers to filter.\n",
        "\n",
        "    Returns:\n",
        "    List[int]: A new list containing only the even numbers from the original list.\n",
        "    \"\"\"\n",
        "    ### YOUR CODE STARTS HERE ###\n",
        "\n",
        "    ### YOUR CODE ENDS HERE ###\n",
        "    # Return the list of even numbers\n",
        "    return even_numbers\n"
      ]
    },
    {
      "cell_type": "code",
      "source": [
        "# DO NOT MODIFY THIS\n",
        "#test cases\n",
        "test_cases = [\n",
        "    [5,7,8,3,2,1,0],\n",
        "    [1,2,3,4,5,6,7,8,9],\n",
        "    [182378, 2894, 120, 3, 456, 79, 181]\n",
        "]\n",
        "for i in test_cases:\n",
        "  output = filter_even_numbers(i)\n",
        "  print(output)"
      ],
      "metadata": {
        "id": "_oxHRBvIf--a"
      },
      "execution_count": null,
      "outputs": []
    },
    {
      "cell_type": "markdown",
      "source": [
        "### Question 2:\n",
        "Define a Python class called Student with attributes school and principal name as class variables and  name and grade as instance variables. Include a method display_student that prints the student's details. Create an instance of the class and call the method to display the details. Ensure that the output is in the format given below. The details need not be accurate.\n",
        "\n",
        "**Example**\n",
        "\n",
        "```python\n",
        "student = Student(name=\"John Doe\", grade=\"A\")\n",
        "\n",
        "student.display_student()\n",
        "```\n",
        "\n",
        "**Output:**\n",
        "\n",
        "```\n",
        "Student Name: John Doe\n",
        "\n",
        "Grade: A\n",
        "\n",
        "School: Your School Name\n",
        "\n",
        "Principal: Principal's Name\n",
        "```\n"
      ],
      "metadata": {
        "id": "ySn7rRHMft6W"
      }
    },
    {
      "cell_type": "code",
      "source": [
        "class Student:\n",
        "    # Class variables\n",
        "    school: str = #Enter string value. Doesn't have to be the actual name\n",
        "    principal_name: str = #Enter string value. Doesn't have to be the actual name\n",
        "\n",
        "    def __init__(self, name: str, grade: str):\n",
        "        \"\"\"\n",
        "        Initializes a Student instance.\n",
        "\n",
        "        Parameters:\n",
        "        name (str): The name of the student.\n",
        "        grade (str): The grade of the student.\n",
        "        \"\"\"\n",
        "        # Declare instance variables. Hint: use the self keyword to reference the object and initialize the instance variables, and use the name and grade parameters.\n",
        "        ### YOUR CODE STARTS HERE ###\n",
        "\n",
        "        ### YOUR CODE ENDS HERE ###\n",
        "\n",
        "    def display_student(self):\n",
        "        \"\"\"\n",
        "        Prints the student's details, in the format given in the example\n",
        "        \"\"\"\n",
        "        ### YOUR CODE STARTS HERE ###\n",
        "\n",
        "        ### YOUR CODE ENDS HERE ###"
      ],
      "metadata": {
        "id": "M4xPNuUYfaWr"
      },
      "execution_count": null,
      "outputs": []
    },
    {
      "cell_type": "code",
      "source": [
        "# DO NOT MODIFY THIS BLOCK\n",
        "# Create an instance of the Student class\n",
        "student = Student(name=\"John Doe\", grade=\"A\")\n",
        "# Call the method to display the student's details\n",
        "student.display_student()"
      ],
      "metadata": {
        "id": "JN4tYpYBlgIo"
      },
      "execution_count": null,
      "outputs": []
    },
    {
      "cell_type": "markdown",
      "source": [
        "### Question 3:\n",
        "Prime Factorization: Write a function that takes an integer as input and returns a list of its prime factors. For example, the prime factors of 60 are [2, 3, 5]. Each prime factor should only appear once.\n",
        "\n",
        "**Example:**\n",
        "\n",
        "```\n",
        "Input: 60\n",
        "```\n",
        "```\n",
        "Output: [2, 3, 5]\n",
        "```\n"
      ],
      "metadata": {
        "id": "2oBTTqrQqfZ8"
      }
    },
    {
      "cell_type": "code",
      "source": [
        "from typing import List\n",
        "\n",
        "def prime_factors(n: int) -> List[int]:\n",
        "    \"\"\"\n",
        "    Returns a list of the prime factors of the given integer.\n",
        "\n",
        "    Parameters:\n",
        "    n (int): The integer to factorize.\n",
        "\n",
        "    Returns:\n",
        "    List[int]: A list containing the prime factors of the integer.\n",
        "    \"\"\"\n",
        "    ### YOUR CODE STARTS HERE ###\n",
        "\n",
        "    ### YOUR CODE ENDS HERE ###\n",
        "    return factors\n"
      ],
      "metadata": {
        "id": "Fw1BL3SCqoHl"
      },
      "execution_count": null,
      "outputs": []
    },
    {
      "cell_type": "code",
      "source": [
        "### DO NOT MODIFY THIS BLOCK\n",
        "test_cases = [\n",
        "    60,\n",
        "    131,\n",
        "    100,\n",
        "    97,\n",
        "    182378,\n",
        "]\n",
        "\n",
        "# Running the test cases\n",
        "for num in test_cases:\n",
        "    output = prime_factors(num)\n",
        "    print(output)"
      ],
      "metadata": {
        "id": "lKQfs0AWs3JN"
      },
      "execution_count": null,
      "outputs": []
    },
    {
      "cell_type": "markdown",
      "source": [
        "### Question 4: Word Guessing Game (Bonus, Ungraded)\n",
        "Write a program that implements a word guessing game. Here's how it should work:\n",
        "- The program randomly selects a word from a predefined list of words. You can use a list like words = [\"apple\", \"banana\", \"cherry\", \"orange\", \"pear\"].\n",
        "- The user repeatedly tries to guess the word. Each guess should be compared to the selected word.\n",
        "- Provide feedback to the user after each guess:\n",
        "  - If the guess is correct, print a congratulatory message and the number of guesses it took.\n",
        "  - If the guess is incorrect, tell the user whether the guessed word comes before or after the selected word alphabetically.\n",
        "- Allow the user to continue guessing until they guess the word correctly.\n",
        "- After the game ends (i.e., when the word is guessed correctly), ask the user if they want to play again. If yes, start a new game with a new randomly selected word. If no, exit the program.\n",
        "\n"
      ],
      "metadata": {
        "id": "Tn6wOwA6vLQL"
      }
    },
    {
      "cell_type": "code",
      "source": [
        "#This is a bonus question, for you to test your python skills. Create a function to check whether the user's input is correct or not and return the feedback.\n",
        "#Then make a for loop (or while loop) to keep it going until the user quits"
      ],
      "metadata": {
        "id": "AvTmn4owvd74"
      },
      "execution_count": null,
      "outputs": []
    }
  ]
}
